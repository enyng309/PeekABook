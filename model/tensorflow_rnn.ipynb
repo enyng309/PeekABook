{
  "nbformat": 4,
  "nbformat_minor": 0,
  "metadata": {
    "colab": {
      "name": "tensorflow_rnn.ipynb",
      "provenance": [],
      "authorship_tag": "ABX9TyMcMfcA9VEwFID08eT8O9+f",
      "include_colab_link": true
    },
    "kernelspec": {
      "name": "python3",
      "display_name": "Python 3"
    },
    "language_info": {
      "name": "python"
    },
    "accelerator": "GPU"
  },
  "cells": [
    {
      "cell_type": "markdown",
      "metadata": {
        "id": "view-in-github",
        "colab_type": "text"
      },
      "source": [
        "<a href=\"https://colab.research.google.com/github/seawavve/PeekABook/blob/main/model/tensorflow_rnn.ipynb\" target=\"_parent\"><img src=\"https://colab.research.google.com/assets/colab-badge.svg\" alt=\"Open In Colab\"/></a>"
      ]
    },
    {
      "cell_type": "code",
      "metadata": {
        "id": "N8FI-BhfLTSk"
      },
      "source": [
        "import numpy as np\n",
        "import pandas as pd\n",
        "%matplotlib inline\n",
        "import matplotlib.pyplot as plt\n",
        "from tensorflow.keras.preprocessing.text import Tokenizer\n",
        "from tensorflow.keras.preprocessing.sequence import pad_sequences\n",
        "from sklearn.model_selection import train_test_split"
      ],
      "execution_count": 7,
      "outputs": []
    },
    {
      "cell_type": "code",
      "metadata": {
        "colab": {
          "base_uri": "https://localhost:8080/",
          "height": 436
        },
        "id": "KDHeXi0sLgj6",
        "outputId": "3b2a139a-4e6a-4281-b7bb-e88ce762ecde"
      },
      "source": [
        "\n",
        "data=pd.read_csv('./Peterpan_emo3.csv')\n",
        "data=data.dropna(how='any')\n",
        "print(f'Dimensions: {data.shape}')\n",
        "data"
      ],
      "execution_count": 8,
      "outputs": [
        {
          "output_type": "stream",
          "text": [
            "Dimensions: (1697, 4)\n"
          ],
          "name": "stdout"
        },
        {
          "output_type": "execute_result",
          "data": {
            "text/html": [
              "<div>\n",
              "<style scoped>\n",
              "    .dataframe tbody tr th:only-of-type {\n",
              "        vertical-align: middle;\n",
              "    }\n",
              "\n",
              "    .dataframe tbody tr th {\n",
              "        vertical-align: top;\n",
              "    }\n",
              "\n",
              "    .dataframe thead th {\n",
              "        text-align: right;\n",
              "    }\n",
              "</style>\n",
              "<table border=\"1\" class=\"dataframe\">\n",
              "  <thead>\n",
              "    <tr style=\"text-align: right;\">\n",
              "      <th></th>\n",
              "      <th>Unnamed: 0</th>\n",
              "      <th>sentence</th>\n",
              "      <th>posNeg</th>\n",
              "      <th>posNeg3</th>\n",
              "    </tr>\n",
              "  </thead>\n",
              "  <tbody>\n",
              "    <tr>\n",
              "      <th>0</th>\n",
              "      <td>0</td>\n",
              "      <td>Chapter 1 PETER BREAKS THROUGH</td>\n",
              "      <td>0.000000</td>\n",
              "      <td>1.0</td>\n",
              "    </tr>\n",
              "    <tr>\n",
              "      <th>1</th>\n",
              "      <td>1</td>\n",
              "      <td>All children, except one, grow up. They soon k...</td>\n",
              "      <td>0.311111</td>\n",
              "      <td>2.0</td>\n",
              "    </tr>\n",
              "    <tr>\n",
              "      <th>2</th>\n",
              "      <td>2</td>\n",
              "      <td>Of course they lived at 14 [their house number...</td>\n",
              "      <td>0.279545</td>\n",
              "      <td>2.0</td>\n",
              "    </tr>\n",
              "    <tr>\n",
              "      <th>3</th>\n",
              "      <td>3</td>\n",
              "      <td>The way Mr. Darling won her was this: the many...</td>\n",
              "      <td>0.483333</td>\n",
              "      <td>2.0</td>\n",
              "    </tr>\n",
              "    <tr>\n",
              "      <th>4</th>\n",
              "      <td>4</td>\n",
              "      <td>Mr. Darling used to boast to Wendy that her mo...</td>\n",
              "      <td>0.148889</td>\n",
              "      <td>1.0</td>\n",
              "    </tr>\n",
              "    <tr>\n",
              "      <th>...</th>\n",
              "      <td>...</td>\n",
              "      <td>...</td>\n",
              "      <td>...</td>\n",
              "      <td>...</td>\n",
              "    </tr>\n",
              "    <tr>\n",
              "      <th>1692</th>\n",
              "      <td>1692</td>\n",
              "      <td>“If only I could go with you,” Wendy sighed.</td>\n",
              "      <td>0.000000</td>\n",
              "      <td>1.0</td>\n",
              "    </tr>\n",
              "    <tr>\n",
              "      <th>1693</th>\n",
              "      <td>1693</td>\n",
              "      <td>“You see you can't fly,” said Jane.</td>\n",
              "      <td>0.800000</td>\n",
              "      <td>2.0</td>\n",
              "    </tr>\n",
              "    <tr>\n",
              "      <th>1694</th>\n",
              "      <td>1694</td>\n",
              "      <td>Of course in the end Wendy let them fly away t...</td>\n",
              "      <td>0.183333</td>\n",
              "      <td>2.0</td>\n",
              "    </tr>\n",
              "    <tr>\n",
              "      <th>1695</th>\n",
              "      <td>1695</td>\n",
              "      <td>As you look at Wendy, you may see her hair bec...</td>\n",
              "      <td>0.097396</td>\n",
              "      <td>1.0</td>\n",
              "    </tr>\n",
              "    <tr>\n",
              "      <th>1696</th>\n",
              "      <td>1696</td>\n",
              "      <td>THE END</td>\n",
              "      <td>0.000000</td>\n",
              "      <td>1.0</td>\n",
              "    </tr>\n",
              "  </tbody>\n",
              "</table>\n",
              "<p>1697 rows × 4 columns</p>\n",
              "</div>"
            ],
            "text/plain": [
              "      Unnamed: 0  ... posNeg3\n",
              "0              0  ...     1.0\n",
              "1              1  ...     2.0\n",
              "2              2  ...     2.0\n",
              "3              3  ...     2.0\n",
              "4              4  ...     1.0\n",
              "...          ...  ...     ...\n",
              "1692        1692  ...     1.0\n",
              "1693        1693  ...     2.0\n",
              "1694        1694  ...     2.0\n",
              "1695        1695  ...     1.0\n",
              "1696        1696  ...     1.0\n",
              "\n",
              "[1697 rows x 4 columns]"
            ]
          },
          "metadata": {
            "tags": []
          },
          "execution_count": 8
        }
      ]
    },
    {
      "cell_type": "code",
      "metadata": {
        "colab": {
          "base_uri": "https://localhost:8080/",
          "height": 288
        },
        "id": "AlEU6igONDdQ",
        "outputId": "192be000-520c-4f38-f8c8-8e8bd0cb7f4b"
      },
      "source": [
        "colors = ['khaki','mediumaquamarine','lightcoral']\n",
        "data['posNeg3'].value_counts().plot(kind='bar',color=colors)\n"
      ],
      "execution_count": 9,
      "outputs": [
        {
          "output_type": "execute_result",
          "data": {
            "text/plain": [
              "<matplotlib.axes._subplots.AxesSubplot at 0x7f24b22bf850>"
            ]
          },
          "metadata": {
            "tags": []
          },
          "execution_count": 9
        },
        {
          "output_type": "display_data",
          "data": {
            "image/png": "[encoded data removed]",
            "text/plain": [
              "<Figure size 432x288 with 1 Axes>"
            ]
          },
          "metadata": {
            "tags": [],
            "needs_background": "light"
          }
        }
      ]
    },
    {
      "cell_type": "code",
      "metadata": {
        "colab": {
          "base_uri": "https://localhost:8080/"
        },
        "id": "1dbiNu0gLgmw",
        "outputId": "271227cf-cd14-465e-8d83-a207b77dd90f"
      },
      "source": [
        "x_data = data['sentence']\n",
        "y_data = data['posNeg3']\n",
        "print('메일 본문의 개수: {}'.format(len(x_data)))\n",
        "print('레이블의 개수: {}'.format(len(y_data)))"
      ],
      "execution_count": 14,
      "outputs": [
        {
          "output_type": "stream",
          "text": [
            "메일 본문의 개수: 1697\n",
            "레이블의 개수: 1697\n"
          ],
          "name": "stdout"
        }
      ]
    },
    {
      "cell_type": "code",
      "metadata": {
        "id": "1R3S4DxuLgtH"
      },
      "source": [
        "tokenizer = Tokenizer()\n",
        "tokenizer.fit_on_texts(x_data) #X의 각 행에 토큰화를 수행\n",
        "sequences = tokenizer.texts_to_sequences(x_data) # 단어를 숫자값, 인덱스로 변환하여 저장"
      ],
      "execution_count": 17,
      "outputs": []
    },
    {
      "cell_type": "code",
      "metadata": {
        "colab": {
          "base_uri": "https://localhost:8080/"
        },
        "id": "SkyVzt28Lgxc",
        "outputId": "c8021e01-c580-4bda-e7b0-e995dd550cea"
      },
      "source": [
        "sequences[:5]"
      ],
      "execution_count": 18,
      "outputs": [
        {
          "output_type": "execute_result",
          "data": {
            "text/plain": [
              "[[345, 1717, 23, 1718, 129],\n",
              " [33,\n",
              "  76,\n",
              "  319,\n",
              "  40,\n",
              "  611,\n",
              "  46,\n",
              "  13,\n",
              "  216,\n",
              "  77,\n",
              "  11,\n",
              "  13,\n",
              "  83,\n",
              "  611,\n",
              "  46,\n",
              "  3,\n",
              "  1,\n",
              "  80,\n",
              "  29,\n",
              "  94,\n",
              "  6,\n",
              "  39,\n",
              "  40,\n",
              "  222,\n",
              "  43,\n",
              "  12,\n",
              "  6,\n",
              "  154,\n",
              "  882,\n",
              "  244,\n",
              "  12,\n",
              "  6,\n",
              "  479,\n",
              "  10,\n",
              "  7,\n",
              "  2609,\n",
              "  3,\n",
              "  12,\n",
              "  1719,\n",
              "  200,\n",
              "  1295,\n",
              "  3,\n",
              "  346,\n",
              "  27,\n",
              "  9,\n",
              "  4,\n",
              "  16,\n",
              "  81,\n",
              "  31,\n",
              "  522,\n",
              "  12,\n",
              "  107,\n",
              "  32,\n",
              "  193,\n",
              "  161,\n",
              "  1057,\n",
              "  19,\n",
              "  90,\n",
              "  65,\n",
              "  165,\n",
              "  16,\n",
              "  113,\n",
              "  4,\n",
              "  16,\n",
              "  331,\n",
              "  3,\n",
              "  54,\n",
              "  157,\n",
              "  292,\n",
              "  237,\n",
              "  18,\n",
              "  1058,\n",
              "  75,\n",
              "  39,\n",
              "  19,\n",
              "  131,\n",
              "  2,\n",
              "  39,\n",
              "  6,\n",
              "  33,\n",
              "  11,\n",
              "  404,\n",
              "  426,\n",
              "  30,\n",
              "  22,\n",
              "  1,\n",
              "  1059,\n",
              "  17,\n",
              "  1720,\n",
              "  29,\n",
              "  94,\n",
              "  11,\n",
              "  12,\n",
              "  107,\n",
              "  611,\n",
              "  46,\n",
              "  18,\n",
              "  120,\n",
              "  77,\n",
              "  122,\n",
              "  18,\n",
              "  41,\n",
              "  154,\n",
              "  154,\n",
              "  25,\n",
              "  1,\n",
              "  679,\n",
              "  8,\n",
              "  1,\n",
              "  320],\n",
              " [8,\n",
              "  95,\n",
              "  13,\n",
              "  612,\n",
              "  28,\n",
              "  1296,\n",
              "  37,\n",
              "  135,\n",
              "  1297,\n",
              "  22,\n",
              "  37,\n",
              "  613,\n",
              "  3,\n",
              "  293,\n",
              "  29,\n",
              "  89,\n",
              "  16,\n",
              "  81,\n",
              "  6,\n",
              "  1,\n",
              "  1060,\n",
              "  40,\n",
              "  12,\n",
              "  6,\n",
              "  7,\n",
              "  321,\n",
              "  210,\n",
              "  27,\n",
              "  7,\n",
              "  1061,\n",
              "  322,\n",
              "  3,\n",
              "  108,\n",
              "  7,\n",
              "  405,\n",
              "  1062,\n",
              "  223,\n",
              "  16,\n",
              "  1061,\n",
              "  322,\n",
              "  6,\n",
              "  75,\n",
              "  1,\n",
              "  883,\n",
              "  2610,\n",
              "  40,\n",
              "  614,\n",
              "  1,\n",
              "  96,\n",
              "  11,\n",
              "  100,\n",
              "  57,\n",
              "  1,\n",
              "  1298,\n",
              "  2611,\n",
              "  245,\n",
              "  227,\n",
              "  18,\n",
              "  1299,\n",
              "  42,\n",
              "  25,\n",
              "  120,\n",
              "  40,\n",
              "  85,\n",
              "  3,\n",
              "  16,\n",
              "  405,\n",
              "  1062,\n",
              "  223,\n",
              "  14,\n",
              "  40,\n",
              "  347,\n",
              "  22,\n",
              "  9,\n",
              "  11,\n",
              "  29,\n",
              "  52,\n",
              "  84,\n",
              "  158,\n",
              "  132,\n",
              "  42,\n",
              "  9,\n",
              "  6,\n",
              "  680,\n",
              "  2612,\n",
              "  10,\n",
              "  1,\n",
              "  201,\n",
              "  113,\n",
              "  884],\n",
              " [1,\n",
              "  80,\n",
              "  142,\n",
              "  65,\n",
              "  681,\n",
              "  16,\n",
              "  6,\n",
              "  39,\n",
              "  1,\n",
              "  227,\n",
              "  1063,\n",
              "  58,\n",
              "  14,\n",
              "  55,\n",
              "  71,\n",
              "  43,\n",
              "  12,\n",
              "  6,\n",
              "  7,\n",
              "  303,\n",
              "  682,\n",
              "  1064,\n",
              "  11,\n",
              "  13,\n",
              "  427,\n",
              "  16,\n",
              "  3,\n",
              "  13,\n",
              "  33,\n",
              "  346,\n",
              "  4,\n",
              "  16,\n",
              "  135,\n",
              "  4,\n",
              "  2613,\n",
              "  4,\n",
              "  16,\n",
              "  319,\n",
              "  142,\n",
              "  65,\n",
              "  58,\n",
              "  258,\n",
              "  7,\n",
              "  1065,\n",
              "  3,\n",
              "  1721,\n",
              "  10,\n",
              "  82,\n",
              "  3,\n",
              "  36,\n",
              "  5,\n",
              "  202,\n",
              "  16,\n",
              "  5,\n",
              "  202,\n",
              "  33,\n",
              "  8,\n",
              "  16,\n",
              "  319,\n",
              "  1,\n",
              "  2614,\n",
              "  885,\n",
              "  3,\n",
              "  1,\n",
              "  347,\n",
              "  5,\n",
              "  84,\n",
              "  94,\n",
              "  66,\n",
              "  1,\n",
              "  885,\n",
              "  3,\n",
              "  10,\n",
              "  60,\n",
              "  5,\n",
              "  182,\n",
              "  46,\n",
              "  428,\n",
              "  19,\n",
              "  1,\n",
              "  347,\n",
              "  29,\n",
              "  86,\n",
              "  2615,\n",
              "  52,\n",
              "  32,\n",
              "  202,\n",
              "  9,\n",
              "  17,\n",
              "  31,\n",
              "  159,\n",
              "  2616,\n",
              "  24,\n",
              "  428,\n",
              "  3,\n",
              "  56,\n",
              "  203,\n",
              "  151,\n",
              "  10,\n",
              "  7,\n",
              "  769,\n",
              "  2617,\n",
              "  1,\n",
              "  282],\n",
              " [142,\n",
              "  65,\n",
              "  406,\n",
              "  4,\n",
              "  1722,\n",
              "  4,\n",
              "  29,\n",
              "  11,\n",
              "  16,\n",
              "  81,\n",
              "  20,\n",
              "  78,\n",
              "  427,\n",
              "  24,\n",
              "  17,\n",
              "  2618,\n",
              "  24,\n",
              "  5,\n",
              "  6,\n",
              "  40,\n",
              "  8,\n",
              "  332,\n",
              "  1300,\n",
              "  333,\n",
              "  58,\n",
              "  77,\n",
              "  66,\n",
              "  1301,\n",
              "  3,\n",
              "  1302,\n",
              "  8,\n",
              "  95,\n",
              "  47,\n",
              "  40,\n",
              "  136,\n",
              "  562,\n",
              "  17,\n",
              "  5,\n",
              "  101,\n",
              "  267,\n",
              "  4,\n",
              "  77,\n",
              "  3,\n",
              "  5,\n",
              "  323,\n",
              "  21,\n",
              "  1301,\n",
              "  34,\n",
              "  46,\n",
              "  3,\n",
              "  1302,\n",
              "  34,\n",
              "  102,\n",
              "  10,\n",
              "  7,\n",
              "  80,\n",
              "  11,\n",
              "  38,\n",
              "  32,\n",
              "  123,\n",
              "  177,\n",
              "  377,\n",
              "  1303,\n",
              "  24]]"
            ]
          },
          "metadata": {
            "tags": []
          },
          "execution_count": 18
        }
      ]
    },
    {
      "cell_type": "code",
      "metadata": {
        "colab": {
          "base_uri": "https://localhost:8080/"
        },
        "id": "aqnoOjUULg00",
        "outputId": "2bf523c4-946d-4bc0-fe61-04a5338e9a83"
      },
      "source": [
        "word_to_index = tokenizer.word_index\n",
        "vocab_size = len(word_to_index) + 1\n",
        "print(word_to_index)"
      ],
      "execution_count": 19,
      "outputs": [
        {
          "output_type": "stream",
          "text": [
            "{'the': 1, '”': 2, 'and': 3, 'to': 4, 'he': 5, 'was': 6, 'a': 7, 'of': 8, 'it': 9, 'in': 10, 'that': 11, 'she': 12, 'they': 13, 'had': 14, 'his': 15, 'her': 16, 'but': 17, 'you': 18, 'for': 19, 'not': 20, 'said': 21, 'on': 22, 'peter': 23, 'him': 24, 'is': 25, 'as': 26, 'with': 27, 'at': 28, 'wendy': 29, 'them': 30, 'i': 31, 'have': 32, 'all': 33, 'were': 34, 'be': 35, 'so': 36, 'their': 37, 'would': 38, 'this': 39, 'one': 40, 'are': 41, 'there': 42, 'when': 43, 'by': 44, 'out': 45, 'up': 46, 'no': 47, '“i': 48, 'now': 49, 'hook': 50, 'we': 51, 'could': 52, 'if': 53, 'cried': 54, 'been': 55, 'then': 56, 'from': 57, 'who': 58, 'what': 59, 'time': 60, 'did': 61, 'which': 62, 'john': 63, 'do': 64, 'darling': 65, 'about': 66, 'me': 67, 'see': 68, 'little': 69, 'into': 70, 'boys': 71, 'an': 72, 'michael': 73, 'again': 74, 'like': 75, 'children': 76, 'know': 77, 'only': 78, 'night': 79, 'way': 80, 'mother': 81, 'first': 82, 'will': 83, 'never': 84, 'more': 85, 'thought': 86, 'just': 87, 'go': 88, 'came': 89, 'mrs': 90, 'your': 91, 'or': 92, 'my': 93, 'knew': 94, 'course': 95, 'other': 96, 'how': 97, 'once': 98, 'very': 99, 'come': 100, 'quite': 101, 'down': 102, 'bed': 103, 'over': 104, 'back': 105, 'still': 106, 'must': 107, 'such': 108, 'say': 109, 'last': 110, 'moment': 111, 'think': 112, 'hand': 113, 'than': 114, 'away': 115, \"don't\": 116, 'man': 117, 'long': 118, 'went': 119, 'always': 120, 'pirates': 121, 'after': 122, 'made': 123, 'even': 124, 'nana': 125, 'before': 126, 'round': 127, 'us': 128, 'through': 129, 'because': 130, 'ever': 131, 'though': 132, '“and': 133, 'smee': 134, 'house': 135, 'really': 136, 'let': 137, '“you': 138, 'heard': 139, 'am': 140, 'tink': 141, 'mr': 142, 'should': 143, 'thing': 144, '“it': 145, 'tell': 146, 'asked': 147, 'slightly': 148, 'every': 149, 'look': 150, 'off': 151, 'saw': 152, 'himself': 153, 'two': 154, '“yes': 155, 'tootles': 156, '“oh': 157, 'get': 158, 'can': 159, 'where': 160, 'rather': 161, 'looking': 162, 'too': 163, 'home': 164, 'put': 165, 'window': 166, '“no': 167, 'most': 168, 'nursery': 169, 'room': 170, 'light': 171, '“what': 172, 'eyes': 173, 'some': 174, 'has': 175, 'boy': 176, 'any': 177, 'much': 178, 'good': 179, 'sound': 180, 'told': 181, 'gave': 182, 'sure': 183, 'make': 184, 'nibs': 185, 'almost': 186, 'without': 187, 'sat': 188, 'called': 189, 'well': 190, 'found': 191, 'voice': 192, 'looked': 193, 'here': 194, 'father': 195, 'things': 196, 'island': 197, 'take': 198, 'fly': 199, 'another': 200, 'right': 201, 'got': 202, 'going': 203, 'while': 204, 'also': 205, 'hear': 206, 'may': 207, 'water': 208, 'upon': 209, 'lady': 210, 'lagoon': 211, '“but': 212, 'tree': 213, 'face': 214, 'fell': 215, 'soon': 216, 'each': 217, 'bell': 218, 'pirate': 219, 'ground': 220, 'replied': 221, 'day': 222, 'mouth': 223, 'might': 224, 'sometimes': 225, 'believe': 226, 'many': 227, 'three': 228, \"wendy's\": 229, 'cry': 230, 'best': 231, 'thus': 232, 'dear': 233, 'want': 234, '“the': 235, 'tinker': 236, \"can't\": 237, 'these': 238, 'great': 239, '“that': 240, \"peter's\": 241, 'starkey': 242, 'rock': 243, 'old': 244, 'however': 245, 'being': 246, 'something': 247, '“peter': 248, 'others': 249, 'air': 250, 'redskins': 251, 'ship': 252, 'seen': 253, 'its': 254, '“if': 255, 'story': 256, 'captain': 257, 'took': 258, 'asleep': 259, 'trees': 260, 'tried': 261, 'flew': 262, 'under': 263, 'crocodile': 264, 'bird': 265, 'jane': 266, 'seemed': 267, 'same': 268, 'floor': 269, 'pan': 270, 'own': 271, 'nothing': 272, 'shall': 273, 'felt': 274, 'fairies': 275, 'till': 276, 'suddenly': 277, 'against': 278, 'lost': 279, 'give': 280, 'help': 281, 'door': 282, 'neverland': 283, 'stood': 284, 'words': 285, 'true': 286, 'head': 287, 'answer': 288, 'indeed': 289, 'our': 290, 'answered': 291, 'why': 292, 'until': 293, '“he': 294, 'remember': 295, 'perhaps': 296, 'open': 297, 'hands': 298, 'longer': 299, 'whispered': 300, 'hat': 301, \"hook's\": 302, 'girl': 303, 'instead': 304, 'around': 305, 'yet': 306, 'sleep': 307, 'began': 308, 'strange': 309, 'evening': 310, 'shadow': 311, 'medicine': 312, 'life': 313, 'glad': 314, 'save': 315, '“she': 316, '“ay': 317, 'curly': 318, 'except': 319, 'end': 320, 'lovely': 321, 'mind': 322, 'often': 323, 'kennel': 324, 'themselves': 325, \"“it's\": 326, 'arms': 327, 'gone': 328, 'already': 329, 'fairy': 330, 'heart': 331, 'those': 332, 'ones': 333, 'white': 334, 'whether': 335, 'lay': 336, 'feeling': 337, 'part': 338, 'name': 339, 'dead': 340, 'quickly': 341, 'far': 342, '“wendy': 343, 'sea': 344, 'chapter': 345, 'ran': 346, 'kiss': 347, 'wanted': 348, 'side': 349, 'days': 350, 'real': 351, '“why': 352, 'mothers': 353, 'herself': 354, '“let': 355, 'says': 356, 'crying': 357, 'form': 358, 'cabin': 359, 'followed': 360, 'new': 361, 'find': 362, 'sight': 363, 'thinking': 364, 'grown': 365, 'saying': 366, 'kind': 367, 'flung': 368, '“how': 369, '“o': 370, 'does': 371, '“we': 372, 'left': 373, '“are': 374, '“then': 375, 'terrible': 376, 'woman': 377, 'whole': 378, 'nine': 379, 'both': 380, 'coming': 381, 'next': 382, 'ready': 383, 'flying': 384, \"isn't\": 385, 'alone': 386, 'feet': 387, 'love': 388, 'oh': 389, 'returned': 390, \"won't\": 391, 'arm': 392, 'better': 393, 'behind': 394, 'dogs': 395, 'hour': 396, 'fear': 397, '“do': 398, 'liked': 399, '“there': 400, 'above': 401, 'need': 402, 'nest': 403, 'passed': 404, 'sweet': 405, 'used': 406, 'cut': 407, 'george': 408, 'doing': 409, 'large': 410, 'adventure': 411, 'least': 412, 'leave': 413, 'explained': 414, 'comes': 415, 'fire': 416, 'having': 417, 'forgotten': 418, 'place': 419, 'big': 420, 'among': 421, 'dark': 422, 'iron': 423, 'tom': 424, 'twins': 425, 'between': 426, 'loved': 427, 'trying': 428, 'kept': 429, '“now': 430, 'speak': 431, 'everything': 432, 'exactly': 433, 'adventures': 434, 'happened': 435, 'mean': 436, 'near': 437, 'showed': 438, 'black': 439, '“they': 440, 'taken': 441, 'silence': 442, 'anything': 443, 'brought': 444, 'rose': 445, 'merely': 446, 'silly': 447, 'pretty': 448, 'tiger': 449, \"mother's\": 450, 'twin': 451, 'dropped': 452, 'keep': 453, 'six': 454, 'seven': 455, 'done': 456, 'school': 457, 'carried': 458, 'nice': 459, 'turned': 460, 'stories': 461, 'person': 462, 'meant': 463, 'foot': 464, 'wish': 465, 'ago': 466, 'beds': 467, 'awfully': 468, '“is': 469, 'use': 470, 'broke': 471, 'sitting': 472, 'pass': 473, 'spoke': 474, 'known': 475, 'tick': 476, 'turn': 477, 'plank': 478, 'playing': 479, 'drew': 480, 'week': 481, 'yes': 482, 'nurse': 483, 'become': 484, 'short': 485, 'small': 486, 'getting': 487, 'leaves': 488, 'play': 489, 'idea': 490, 'matter': 491, 'woke': 492, \"nana's\": 493, 'happy': 494, 'rushed': 495, 'became': 496, 'times': 497, 'wonder': 498, 'immediately': 499, 'waiting': 500, \"“i'm\": 501, 'exclaimed': 502, 'fall': 503, 'continued': 504, 'close': 505, 'figure': 506, 'shut': 507, \"“don't\": 508, '“perhaps': 509, '“who': 510, 'return': 511, '“to': 512, 'mermaids': 513, 'across': 514, 'fight': 515, 'ay': 516, 'gay': 517, 'cecco': 518, 'claw': 519, '“hullo': 520, 'spring': 521, 'suppose': 522, 'faces': 523, 'able': 524, 'frightfully': 525, 'making': 526, 'carry': 527, 'question': 528, 'dog': 529, 'whom': 530, 'forgot': 531, 'morning': 532, 'knees': 533, 'showing': 534, 'together': 535, 'word': 536, '“my': 537, 'chimney': 538, 'slept': 539, 'hung': 540, 'dreadful': 541, 'tie': 542, 'tied': 543, 'feel': 544, 'sorry': 545, 'show': 546, 'stars': 547, 'few': 548, 'inside': 549, 'rest': 550, 'slowly': 551, 'struck': 552, 'surprise': 553, 'none': 554, 'forward': 555, 'reached': 556, 'birds': 557, 'bit': 558, 'change': 559, 'brave': 560, 'lily': 561, 'knows': 562, 'game': 563, '“of': 564, 'believed': 565, 'hair': 566, 'liza': 567, 'watch': 568, 'top': 569, 'draw': 570, 'probably': 571, 'less': 572, 'boat': 573, 'lights': 574, 'live': 575, 'full': 576, 'body': 577, 'met': 578, 'smile': 579, 'child': 580, 'bad': 581, 'shouted': 582, 'nature': 583, \"'”\": 584, '“john': 585, '“well': 586, 'funny': 587, 'listen': 588, 'danger': 589, 'watching': 590, 'cannot': 591, 'breathing': 592, 'stick': 593, '“a': 594, 'pieces': 595, 'listened': 596, '“where': 597, 'sleeping': 598, 'tails': 599, 'front': 600, 'eggs': 601, 'ill': 602, 'jukes': 603, 'feared': 604, 'die': 605, 'arrow': 606, 'crow': 607, 'raised': 608, 'hope': 609, 'cleaning': 610, 'grow': 611, 'lived': 612, 'street': 613, 'within': 614, 'ten': 615, 'year': 616, 'half': 617, 'knowing': 618, 'talk': 619, 'colour': 620, 'nose': 621, 'parents': 622, 'understand': 623, 'grew': 624, 'lit': 625, 'presently': 626, 'blew': 627, 'teeth': 628, 'leapt': 629, 'killed': 630, 'late': 631, 'easily': 632, 'ought': 633, \"it's\": 634, 'call': 635, 'wearing': 636, 'joy': 637, 'ask': 638, 'nearly': 639, \"wasn't\": 640, '“this': 641, '“not': 642, \"“i'll\": 643, '“so': 644, 'world': 645, 'unhappy': 646, 'manner': 647, 'pleased': 648, 'dance': 649, \"i'll\": 650, 'held': 651, 'toward': 652, 'questions': 653, 'keeping': 654, 'girls': 655, 'understood': 656, 'sharp': 657, 'since': 658, 'reach': 659, 'below': 660, 'sir': 661, 'meet': 662, 'blood': 663, 'dagger': 664, 'song': 665, 'forget': 666, 'cast': 667, 'hollow': 668, 'eye': 669, 'mainland': 670, 'stopped': 671, 'fit': 672, 'written': 673, 'walk': 674, 'feelings': 675, 'board': 676, 'heartless': 677, \"slightly's\": 678, 'beginning': 679, 'perfectly': 680, 'won': 681, 'discovered': 682, 'married': 683, \"darling's\": 684, 'proud': 685, 'office': 686, 'important': 687, 'peeping': 688, 'hated': 689, 'leaf': 690, \"michael's\": 691, 'straight': 692, 'stand': 693, 'forth': 694, 'land': 695, 'minutes': 696, 'remembered': 697, 'frightened': 698, 'sort': 699, 'wood': 700, 'certainly': 701, 'dreaming': 702, 'safe': 703, 'broken': 704, 'screamed': 705, 'hanging': 706, 'telling': 707, 'wants': 708, 'dress': 709, 'third': 710, 'sternly': 711, 'fate': 712, 'men': 713, 'stop': 714, 'quick': 715, 'fair': 716, '“look': 717, 'red': 718, \"“that's\": 719, 'calling': 720, 'beautiful': 721, 'anxious': 722, 'mouths': 723, 'low': 724, 'blown': 725, 'softly': 726, 'awful': 727, \"i'm\": 728, 'frightful': 729, 'listening': 730, 'young': 731, 'run': 732, 'baby': 733, 'laugh': 734, '“oo': 735, 'signed': 736, 'figures': 737, 'cold': 738, 'follow': 739, 'gaily': 740, 'pretend': 741, 'waited': 742, 'passing': 743, 'wind': 744, 'several': 745, \"“there's\": 746, 'smoke': 747, 'redskin': 748, 'beasts': 749, 'kill': 750, '“hook': 751, \"bo'sun\": 752, 'afraid': 753, 'circle': 754, 'darkness': 755, 'hoped': 756, 'present': 757, 'ho': 758, 'lips': 759, 'finished': 760, 'legs': 761, 'instantly': 762, 'step': 763, 'twice': 764, 'meal': 765, 'describe': 766, 'complain': 767, 'deck': 768, 'passion': 769, 'makes': 770, 'threateningly': 771, 'added': 772, 'treated': 773, 'poor': 774, \"john's\": 775, 'difference': 776, 'minds': 777, 'awake': 778, 'drawers': 779, 'wake': 780, 'evil': 781, 'easy': 782, 'especially': 783, \"other's\": 784, 'simple': 785, 'letters': 786, 'appearance': 787, 'odd': 788, 'sense': 789, 'played': 790, 'four': 791, 'darted': 792, 'sprang': 793, 'closed': 794, 'ordinary': 795, 'doubt': 796, 'decided': 797, 'afterwards': 798, 'pretended': 799, 'master': 800, 'names': 801, 'carrying': 802, 'given': 803, 'occasion': 804, 'danced': 805, '“boy': 806, 'pride': 807, 'rage': 808, 'tears': 809, 'strong': 810, 'bring': 811, 'glass': 812, 'retorted': 813, 'breath': 814, 'demanded': 815, \"father's\": 816, 'fun': 817, 'tail': 818, 'myself': 819, 'vain': 820, 'alas': 821, 'dragged': 822, 'admiration': 823, 'nor': 824, 'language': 825, 'fond': 826, 'growing': 827, 'eagerly': 828, 'clothes': 829, 'thimble': 830, 'set': 831, 'touch': 832, 'nearer': 833, \"'\": 834, 'quiet': 835, \"that's\": 836, 'clock': 837, 'disappeared': 838, 'spirit': 839, 'mummy': 840, 'pity': 841, 'success': 842, 'promise': 843, 'jolly': 844, 'food': 845, 'floating': 846, 'along': 847, 'certain': 848, 'moons': 849, 'path': 850, 'shoulder': 851, 'courage': 852, 'barbecue': 853, 'worth': 854, 'shot': 855, 'else': 856, 'melancholy': 857, 'lest': 858, 'caught': 859, 'cake': 860, 'wolves': 861, 'gathered': 862, 'fitted': 863, 'breast': 864, 'standing': 865, 'dreams': 866, '“have': 867, 'firmly': 868, 'lives': 869, 'needed': 870, 'remained': 871, 'sword': 872, 'hard': 873, 'neither': 874, 'death': 875, 'stayed': 876, 'innocent': 877, 'mast': 878, 'space': 879, 'weapons': 880, 'class': 881, 'years': 882, 'tiny': 883, 'corner': 884, 'box': 885, 'babies': 886, 'holding': 887, 'paper': 888, 'five': 889, 'book': 890, 'moving': 891, 'try': 892, 'row': 893, 'milk': 894, 'careless': 895, 'usually': 896, 'wait': 897, 'friends': 898, 'troubled': 899, 'allowed': 900, 'join': 901, 'beautifully': 902, 'map': 903, 'catch': 904, 'lonely': 905, 'work': 906, 'pulling': 907, 'deal': 908, 'instance': 909, 'table': 910, 'gazed': 911, 'admitted': 912, \"didn't\": 913, 'unfortunately': 914, 'carefully': 915, 'begun': 916, 'sewing': 917, 'dream': 918, 'itself': 919, 'opened': 920, 'star': 921, 'snapped': 922, 'meaning': 923, 'drawer': 924, 'opportunity': 925, '27': 926, 'bowl': 927, 'humour': 928, 'break': 929, 'bark': 930, 'sit': 931, 'empty': 932, 'born': 933, 'party': 934, 'neck': 935, 'impressed': 936, 'unless': 937, 'brushed': 938, '“george': 939, '“mother': 940, 'hidden': 941, '“father': 942, '“come': 943, 'puzzled': 944, 'mine': 945, 'missed': 946, 'servants': 947, 'yard': 948, 'determined': 949, 'meantime': 950, 'singing': 951, 'second': 952, 'dust': 953, \"“what's\": 954, 'seem': 955, 'sharply': 956, \"doesn't\": 957, 'ignorance': 958, 'hurt': 959, 'opinion': 960, 'properly': 961, 'crowing': 962, 'chain': 963, 'people': 964, 'surprised': 965, 'charming': 966, 'drawing': 967, 'hiding': 968, 'rising': 969, 'sudden': 970, 'ass': 971, 'cinderella': 972, 'sent': 973, 'reply': 974, 'erect': 975, 'offensive': 976, 'ordered': 977, 'teach': 978, 'mermaid': 979, 'taking': 980, 'gentle': 981, 'ceased': 982, 'seeing': 983, 'burst': 984, 'bye': 985, 'knee': 986, 'flight': 987, 'goes': 988, 'strike': 989, 'lying': 990, 'finger': 991, 'friend': 992, 'rate': 993, 'war': 994, 'anon': 995, 'shadows': 996, 'ear': 997, 'tea': 998, 'thinks': 999, 'care': 1000, 'crew': 1001, 'mullins': 1002, 'james': 1003, 'clung': 1004, 'somewhat': 1005, 'screech': 1006, 'tribe': 1007, 'fallen': 1008, 'heavy': 1009, 'savage': 1010, 'rolled': 1011, '“captain': 1012, 'unknown': 1013, '“did': 1014, 'shore': 1015, 'swimming': 1016, 'eat': 1017, 'victory': 1018, '“see': 1019, 'direction': 1020, 'rang': 1021, '“ah': 1022, 'saved': 1023, 'raising': 1024, 'built': 1025, 'difficult': 1026, 'simply': 1027, 'shape': 1028, 'wall': 1029, 'chamber': 1030, 'possible': 1031, 'past': 1032, 'english': 1033, 'choose': 1034, 'orders': 1035, 'dared': 1036, 'hours': 1037, \"marooners'\": 1038, 'swim': 1039, 'daughter': 1040, 'lantern': 1041, 'scarcely': 1042, 'pain': 1043, 'fighting': 1044, 'truth': 1045, 'kite': 1046, 'usual': 1047, 'braves': 1048, 'sad': 1049, 'barred': 1050, 'cloak': 1051, \"ship's\": 1052, 'tap': 1053, 'gesture': 1054, 'ticking': 1055, 'cypher': 1056, 'delightful': 1057, 'remain': 1058, 'subject': 1059, 'chief': 1060, 'romantic': 1061, 'mocking': 1062, 'gentlemen': 1063, 'simultaneously': 1064, 'cab': 1065, 'gleefully': 1066, 'piece': 1067, 'accompanied': 1068, 'owing': 1069, 'particular': 1070, 'spent': 1071, 'bath': 1072, 'line': 1073, 'england': 1074, 'whipped': 1075, 'blue': 1076, 'talked': 1077, 'specially': 1078, 'wildly': 1079, 'family': 1080, \"children's\": 1081, 'proper': 1082, 'interesting': 1083, 'expect': 1084, 'earth': 1085, 'aired': 1086, 'thoughts': 1087, 'craft': 1088, 'brothers': 1089, 'fast': 1090, 'pet': 1091, 'wolf': 1092, 'died': 1093, 'size': 1094, 'smiled': 1095, 'putting': 1096, 'heads': 1097, 'blow': 1098, 'examined': 1099, 'crawled': 1100, 'walls': 1101, 'drop': 1102, 'extraordinary': 1103, 'cosy': 1104, 'fourth': 1105, 'living': 1106, 'wakened': 1107, 'brain': 1108, 'clear': 1109, 'friday': 1110, 'fatal': 1111, 'dearest': 1112, 'smallest': 1113, 'gown': 1114, 'fine': 1115, 'ours': 1116, 'prevent': 1117, 'looks': 1118, 'wife': 1119, 'nobody': 1120, 'bottle': 1121, '“michael': 1122, 'age': 1123, 'faithful': 1124, 'shuddering': 1125, 'rapped': 1126, 'bathroom': 1127, 'drink': 1128, 'doubtfully': 1129, 'tear': 1130, 'noble': 1131, '“in': 1132, 'instant': 1133, 'knuckles': 1134, 'happen': 1135, 'distant': 1136, '“tink': 1137, 'bells': 1138, 'chest': 1139, 'delight': 1140, 'interested': 1141, 'polite': 1142, 'bowed': 1143, 'address': 1144, 'tragedy': 1145, 'fortunately': 1146, 'clever': 1147, 'crowed': 1148, 'fascinating': 1149, 'shocked': 1150, 'blankets': 1151, 'resist': 1152, 'inch': 1153, 'peeped': 1154, '“shall': 1155, 'wear': 1156, 'suspicions': 1157, 'venture': 1158, 'laughed': 1159, 'lot': 1160, 'enough': 1161, 'merry': 1162, \"tink's\": 1163, 'wishes': 1164, 'cunning': 1165, 'kicked': 1166, 'kick': 1167, 'build': 1168, 'wore': 1169, 'excitedly': 1170, 'drawn': 1171, 'cared': 1172, \"“i've\": 1173, 'gallant': 1174, 'borne': 1175, 'middle': 1176, 'lose': 1177, 'flown': 1178, 'disturb': 1179, 'pretending': 1180, 'ways': 1181, 'sleepy': 1182, 'popped': 1183, 'stone': 1184, 'horror': 1185, 'human': 1186, 'lie': 1187, 'arrows': 1188, 'pointing': 1189, 'sun': 1190, \"there's\": 1191, 'triumph': 1192, 'moved': 1193, 'touched': 1194, 'forces': 1195, 'stare': 1196, '“would': 1197, 'pause': 1198, 'huskily': 1199, 'stern': 1200, 'guess': 1201, 'loving': 1202, 'mischief': 1203, 'completely': 1204, 'wild': 1205, 'hit': 1206, 'fierce': 1207, 'nights': 1208, 'rule': 1209, 'band': 1210, 'bent': 1211, 'yo': 1212, \"we're\": 1213, 'advance': 1214, 'bill': 1215, 'dozen': 1216, 'skylights': 1217, 'obeyed': 1218, 'noise': 1219, 'shows': 1220, 'bones': 1221, 'hole': 1222, 'advanced': 1223, 'pathetic': 1224, 'johnny': 1225, 'corkscrew': 1226, 'lovable': 1227, 'spectacles': 1228, 'soft': 1229, 'mushroom': 1230, \"mermaids'\": 1231, 'damp': 1232, 'laughter': 1233, 'exultation': 1234, 'sang': 1235, 'high': 1236, 'staring': 1237, 'overhead': 1238, '“quick': 1239, 'fluttered': 1240, 'beating': 1241, 'scared': 1242, 'hoarsely': 1243, 'tragic': 1244, 'uncomfortably': 1245, 'spot': 1246, '“listen': 1247, 'busy': 1248, 'watched': 1249, '“for': 1250, 'solemn': 1251, 'tut': 1252, 'cup': 1253, 'absolutely': 1254, 'knock': 1255, 'turning': 1256, 'games': 1257, 'attack': 1258, 'moments': 1259, 'stole': 1260, 'hitting': 1261, 'mark': 1262, 'hitherto': 1263, 'waters': 1264, 'race': 1265, \"smee's\": 1266, 'spoken': 1267, 'timidly': 1268, 'desert': 1269, 'codfish': 1270, 'muttered': 1271, 'scornfully': 1272, 'overboard': 1273, 'cheering': 1274, 'faith': 1275, 'slip': 1276, 'seized': 1277, 'lifted': 1278, 'creature': 1279, 'chair': 1280, 'scene': 1281, 'saturday': 1282, 'invited': 1283, 'draught': 1284, 'enemy': 1285, 'secret': 1286, 'poisoned': 1287, 'hissed': 1288, 'brig': 1289, 'aboard': 1290, 'doodle': 1291, 'doo': 1292, 'remorse': 1293, \"jane's\": 1294, 'flower': 1295, '14': 1296, 'number': 1297, 'puzzling': 1298, 'discover': 1299, 'deep': 1300, 'stocks': 1301, 'shares': 1302, 'respect': 1303, 'doubtful': 1304, 'edge': 1305, 'confused': 1306, 'pound': 1307, 'cheque': 1308, 'eight': 1309, 'warned': 1310, 'fifteen': 1311, 'neighbours': 1312, 'kensington': 1313, 'gardens': 1314, 'proved': 1315, 'treasure': 1316, 'slightest': 1317, 'genius': 1318, 'sounds': 1319, 'contempt': 1320, 'lesson': 1321, 'walking': 1322, 'behaved': 1323, 'inferior': 1324, 'social': 1325, 'despised': 1326, 'uneasily': 1327, 'position': 1328, 'consider': 1329, 'sign': 1330, 'custom': 1331, 'wondering': 1332, 'pressing': 1333, 'cheek': 1334, 'rakish': 1335, 'mostly': 1336, 'river': 1337, 'either': 1338, 'sewn': 1339, 'nicely': 1340, 'assured': 1341, 'pooh': 1342, 'nonsense': 1343, 'strangest': 1344, 'naughty': 1345, 'pipes': 1346, 'knocking': 1347, 'hurry': 1348, 'surely': 1349, 'skeleton': 1350, 'rattled': 1351, 'climb': 1352, 'bathed': 1353, 'warm': 1354, 'lap': 1355, 'dreamt': 1356, 'rent': 1357, 'started': 1358, 'pearls': 1359, 'entered': 1360, 'growled': 1361, 'distress': 1362, 'tone': 1363, 'wet': 1364, 'shame': 1365, 'besides': 1366, 'roll': 1367, 'husband': 1368, 'ah': 1369, 'recalling': 1370, 'accepted': 1371, 'invitation': 1372, 'poured': 1373, 'hundred': 1374, 'evenings': 1375, \"shan't\": 1376, 'early': 1377, 'dressing': 1378, 'swallowed': 1379, 'brute': 1380, 'post': 1381, 'twenty': 1382, 'sufficiently': 1383, 'dinner': 1384, 'carelessly': 1385, 'dancing': 1386, 'trousers': 1387, 'bite': 1388, 'lip': 1389, '“when': 1390, 'weakness': 1391, 'politeness': 1392, 'suspicious': 1393, 'point': 1394, '“certainly': 1395, 'dare': 1396, 'angry': 1397, 'ashamed': 1398, 'horrid': 1399, 'roared': 1400, 'bitterly': 1401, 'refuse': 1402, 'lord': 1403, 'seizing': 1404, 'craved': 1405, 'wretched': 1406, 'passage': 1407, 'smaller': 1408, '“can': 1409, 'guard': 1410, 'punishment': 1411, 'eyed': 1412, 'stealing': 1413, 'pocket': 1414, 'advantage': 1415, 'jug': 1416, 'loveliest': 1417, 'tinkle': 1418, 'golden': 1419, 'jumped': 1420, 'drops': 1421, 'soap': 1422, 'failed': 1423, 'shudder': 1424, 'stranger': 1425, 'courteously': 1426, 'learned': 1427, 'grand': 1428, 'sinking': 1429, 'gets': 1430, 'desire': 1431, 'presence': 1432, 'tall': 1433, 'bag': 1434, 'sewed': 1435, 'behaving': 1436, 'cleverness': 1437, 'conceit': 1438, 'brutal': 1439, 'gently': 1440, 'aghast': 1441, 'lucky': 1442, 'correct': 1443, 'stay': 1444, 'clutching': 1445, 'gentleman': 1446, 'apologetically': 1447, '“with': 1448, 'offered': 1449, 'houses': 1450, 'o': 1451, \"couldn't\": 1452, 'hurried': 1453, 'greedy': 1454, 'gripped': 1455, 'tucked': 1456, 'shook': 1457, 'rubbed': 1458, 'knife': 1459, 'wrong': 1460, '“out': 1461, 'hide': 1462, 'curtains': 1463, 'happening': 1464, 'forgetting': 1465, 'manners': 1466, 'wonderful': 1467, 'lift': 1468, 'mid': 1469, 'miles': 1470, 'hesitated': 1471, 'breathe': 1472, 'sigh': 1473, 'sighted': 1474, 'instructions': 1475, 'implicitly': 1476, 'noticed': 1477, 'falling': 1478, 'leader': 1479, 'worst': 1480, 'twentieth': 1481, 'reminded': 1482, 'fearfully': 1483, 'irritating': 1484, 'pleasant': 1485, 'guidance': 1486, 'leaving': 1487, 'familiar': 1488, 'sides': 1489, 'gloom': 1490, 'different': 1491, 'intently': 1492, '“or': 1493, 'beneath': 1494, \"we'll\": 1495, 'reputation': 1496, 'eerie': 1497, 'pointed': 1498, 'pinch': 1499, 'begged': 1500, \"she's\": 1501, 'led': 1502, 'drinking': 1503, 'branches': 1504, 'fired': 1505, 'echoed': 1506, 'heavens': 1507, 'mechanically': 1508, 'complete': 1509, 'bewildered': 1510, 'doom': 1511, 'absence': 1512, 'heavily': 1513, 'forbidden': 1514, 'bears': 1515, 'slain': 1516, 'stepped': 1517, 'luck': 1518, 'countenance': 1519, 'biting': 1520, 'briskly': 1521, 'belay': 1522, 'ears': 1523, 'handsome': 1524, 'gigantic': 1525, 'cookson': 1526, 'public': 1527, 'killing': 1528, 'noodler': 1529, 'whose': 1530, 'fixed': 1531, 'main': 1532, 'midst': 1533, 'cook': 1534, 'ease': 1535, 'pace': 1536, 'sinister': 1537, 'undoubtedly': 1538, 'aside': 1539, 'piccaninny': 1540, 'bringing': 1541, 'greatest': 1542, 'procession': 1543, 'appear': 1544, 'larger': 1545, 'general': 1546, 'favourite': 1547, 'disturbed': 1548, 'hastily': 1549, 'confident': 1550, '“all': 1551, '“yo': 1552, 'note': 1553, 'trunk': 1554, 'searching': 1555, \"lily's\": 1556, 'silent': 1557, 'fellow': 1558, 'darkly': 1559, 'passionately': 1560, 'chance': 1561, 'haunts': 1562, 'curiously': 1563, 'voices': 1564, 'green': 1565, 'honest': 1566, 'wickedest': 1567, 'distinct': 1568, 'gasped': 1569, 'emerged': 1570, 'pack': 1571, 'crowded': 1572, 'dignity': 1573, 'ladies': 1574, 'shaking': 1575, 'cheer': 1576, 'news': 1577, 'becoming': 1578, 'beside': 1579, 'respectful': 1580, 'delighted': 1581, 'inquired': 1582, 'difficulty': 1583, 'alive': 1584, 'likes': 1585, 'sing': 1586, 'littlest': 1587, 'roof': 1588, 'roses': 1589, 'snatched': 1590, 'politely': 1591, 'hats': 1592, 'rapidly': 1593, 'squeeze': 1594, 'outside': 1595, 'wriggled': 1596, 'action': 1597, 'suit': 1598, 'garments': 1599, 'stretched': 1600, 'filled': 1601, 'strict': 1602, 'basket': 1603, 'private': 1604, 'prove': 1605, 'heel': 1606, 'insisted': 1607, 'write': 1608, 'fascinated': 1609, 'interest': 1610, 'otherwise': 1611, 'tale': 1612, 'wholly': 1613, 'gulch': 1614, 'pulled': 1615, 'attempt': 1616, 'conveyed': 1617, 'tossed': 1618, 'pale': 1619, 'colours': 1620, 'tiptoe': 1621, 'moon': 1622, 'rainbow': 1623, 'nevertheless': 1624, 'proof': 1625, 'worse': 1626, 'shiver': 1627, 'sailors': 1628, 'drown': 1629, 'roused': 1630, 'order': 1631, 'dinghy': 1632, 'torture': 1633, 'offer': 1634, 'free': 1635, 'bonds': 1636, 'queer': 1637, 'guide': 1638, 'grip': 1639, 'sighs': 1640, 'bobbed': 1641, 'swore': 1642, 'startled': 1643, '“lads': 1644, 'wiping': 1645, 'miscreants': 1646, 'various': 1647, 'torn': 1648, \"pirate's\": 1649, 'drifted': 1650, 'steel': 1651, 'prepared': 1652, 'scaled': 1653, 'drive': 1654, 'foe': 1655, 'helpless': 1656, 'striking': 1657, 'elation': 1658, 'fainted': 1659, 'effort': 1660, 'drowned': 1661, 'floated': 1662, '“good': 1663, 'pushed': 1664, 'wings': 1665, 'thanks': 1666, 'stave': 1667, 'trick': 1668, 'abandoned': 1669, 'scandalised': 1670, 'awaiting': 1671, 'whatever': 1672, 'diffidently': 1673, '“as': 1674, 'heavier': 1675, 'honey': 1676, 'cradle': 1677, 'spoil': 1678, '“quiet': 1679, 'sighed': 1680, 'chained': 1681, 'panic': 1682, 'leap': 1683, 'beyond': 1684, 'dawn': 1685, 'scouts': 1686, 'silently': 1687, 'coyote': 1688, 'hold': 1689, 'traditions': 1690, 'blame': 1691, 'decide': 1692, 'beat': 1693, 'music': 1694, 'distinguished': 1695, 'doubled': 1696, 'mercy': 1697, 'forest': 1698, 'unaware': 1699, 'sleeper': 1700, 'oath': 1701, 'bulwarks': 1702, 'famous': 1703, 'matters': 1704, 'conviction': 1705, 'prisoners': 1706, 'hopes': 1707, 'noticing': 1708, 'splash': 1709, 'cat': 1710, \"wi'\": 1711, 'thursday': 1712, 'whisper': 1713, 'tops': 1714, '“because': 1715, 'margaret': 1716, '1': 1717, 'breaks': 1718, 'plucked': 1719, 'henceforth': 1720, 'nipped': 1721, 'boast': 1722, 'missing': 1723, 'totting': 1724, 'guesses': 1725, 'feed': 1726, 'expenses': 1727, 'imploringly': 1728, 'beg': 1729, 'naught': 1730, 'prejudiced': 1731, 'favour': 1732, 'character': 1733, '“remember': 1734, 'mumps': 1735, 'daresay': 1736, 'thirty': 1737, 'measles': 1738, 'cough': 1739, 'miss': 1740, \"fulsom's\": 1741, 'darlings': 1742, 'engaged': 1743, 'perambulators': 1744, 'charges': 1745, 'stocking': 1746, 'umbrella': 1747, 'case': 1748, 'rain': 1749, 'affected': 1750, 'resented': 1751, 'possibly': 1752, 'conducted': 1753, 'wondered': 1754, 'admire': 1755, 'tremendously': 1756, 'dances': 1757, 'sworn': 1758, 'gaiety': 1759, 'dashed': 1760, 'tidying': 1761, 'places': 1762, 'wandered': 1763, 'during': 1764, 'lingering': 1765, 'contents': 1766, 'picked': 1767, 'folded': 1768, 'placed': 1769, 'bottom': 1770, 'spread': 1771, 'maps': 1772, 'parts': 1773, 'keeps': 1774, 'lines': 1775, 'astonishing': 1776, 'coral': 1777, 'savages': 1778, 'tailors': 1779, 'caves': 1780, 'runs': 1781, 'needle': 1782, 'chocolate': 1783, 'yourself': 1784, 'neverlands': 1785, 'vary': 1786, 'shooting': 1787, 'flamingo': 1788, 'wigwam': 1789, 'deftly': 1790, 'resemblance': 1791, 'magic': 1792, 'shores': 1793, 'surf': 1794, 'tedious': 1795, 'chairs': 1796, 'alarming': 1797, 'occasionally': 1798, 'oddly': 1799, 'cocky': 1800, '“besides': 1801, 'mention': 1802, 'disquieting': 1803, 'wipe': 1804, 'fact': 1805, 'precious': 1806, 'lightly': 1807, 'candle': 1808, 'tapped': 1809, 'spout': 1810, 'slid': 1811, 'tranquilly': 1812, 'sew': 1813, 'dimly': 1814, 'nodded': 1815, 'women': 1816, 'film': 1817, 'bigger': 1818, 'fist': 1819, 'somehow': 1820, 'entrancing': 1821, 'gnashed': 1822, '2': 1823, \"boy's\": 1824, 'disturbing': 1825, 'washing': 1826, 'lowered': 1827, 'fitting': 1828, 'later': 1829, 'careful': 1830, 'mea': 1831, 'culpa': 1832, 'detail': 1833, 'liking': 1834, 'parties': 1835, 'handkerchief': 1836, 'fiend': 1837, 'echo': 1838, \"o'clock\": 1839, 'dressed': 1840, 'bracelet': 1841, 'older': 1842, 'birth': 1843, 'conceived': 1844, 'due': 1845, 'male': 1846, 'tornado': 1847, 'occasions': 1848, 'rushing': 1849, 'yelled': 1850, 'excused': 1851, 'warn': 1852, '“our': 1853, 'romp': 1854, 'ended': 1855, 'uneasy': 1856, 'thoughtfully': 1857, 'scoundrel': 1858, 'fault': 1859, 'spoon': 1860, \"“won't\": 1861, 'giving': 1862, 'nastier': 1863, 'bravely': 1864, \"hadn't\": 1865, 'climbed': 1866, 'wardrobe': 1867, 'service': 1868, 'beastly': 1869, 'nasty': 1870, 'sticky': 1871, 'cheerily': 1872, 'doggedly': 1873, 'cowardly': 1874, 'custard': 1875, 'splendid': 1876, 'slipped': 1877, 'joke': 1878, 'lapping': 1879, 'hugged': 1880, 'entreated': 1881, '“bring': 1882, 'waved': 1883, 'unwonted': 1884, 'barking': 1885, 'whimpered': 1886, 'wiser': 1887, 'guessing': 1888, 'curious': 1889, 'notice': 1890, 'winked': 1891, 'clutched': 1892, 'yards': 1893, 'slight': 1894, 'snow': 1895, 'shoes': 1896, 'persons': 1897, 'friendly': 1898, 'mischievous': 1899, 'ups': 1900, '3': 1901, 'wishing': 1902, 'thousand': 1903, 'flashing': 1904, 'entrance': 1905, 'messy': 1906, '“tinker': 1907, 'kings': 1908, 'toss': 1909, 'crowd': 1910, 'appalled': 1911, 'sobs': 1912, 'alarmed': 1913, 'pleasantly': 1914, 'moira': 1915, 'angela': 1916, 'satisfaction': 1917, 'gulped': 1918, '“second': 1919, 'remembering': 1920, 'hostess': 1921, 'wished': 1922, 'mentioned': 1923, 'indignantly': 1924, 'smiling': 1925, \"“you're\": 1926, 'ignorant': 1927, 'housewife': 1928, 'clenched': 1929, 'boylike': 1930, 'glee': 1931, 'bliss': 1932, 'rapturously': 1933, 'withdraw': 1934, 'covered': 1935, '“surely': 1936, 'stiffly': 1937, 'please': 1938, 'button': 1939, 'introduced': 1940, 'examination': 1941, 'asks': 1942, 'indicated': 1943, 'extraordinarily': 1944, '“ought': 1945, 'somewhere': 1946, 'falls': 1947, 'fury': 1948, \"shouldn't\": 1949, 'hardly': 1950, 'insolently': 1951, 'common': 1952, 'tin': 1953, 'immensely': 1954, 'placidly': 1955, 'relenting': 1956, 'kisses': 1957, 'gravely': 1958, 'darting': 1959, 'using': 1960, '“about': 1961, 'happily': 1962, 'lots': 1963, 'jump': 1964, '“mermaids': 1965, 'darn': 1966, 'pockets': 1967, '“wake': 1968, 'command': 1969, 'self': 1970, 'puddings': 1971, \"aren't\": 1972, 'encouraged': 1973, 'breathed': 1974, 'dense': 1975, 'missus': 1976, 'strained': 1977, 'heaven': 1978, 'mantelpiece': 1979, 'delightfully': 1980, 'rubbing': 1981, 'practical': 1982, 'superb': 1983, 'results': 1984, 'shoulders': 1985, 'ripping': 1986, 'elegant': 1987, 'bobbing': 1988, 'delicious': 1989, 'indignant': 1990, 'heavenly': 1991, '“pirates': 1992, 'curtain': 1993, 'attire': 1994, 'circling': 1995, 'tremble': 1996, 'relief': 1997, 'solemnly': 1998, '4': 1999, 'consulting': 2000, 'corners': 2001, 'trusted': 2002, 'church': 2003, 'objects': 2004, 'fancy': 2005, 'start': 2006, 'recalled': 2007, 'hungry': 2008, 'snatch': 2009, 'parting': 2010, 'butter': 2011, '“save': 2012, 'partly': 2013, 'faster': 2014, '“follow': 2015, 'picking': 2016, 'bump': 2017, 'constantly': 2018, 'cloud': 2019, 'avoid': 2020, 'shoot': 2021, 'share': 2022, 'laughing': 2023, 'forgets': 2024, 'tired': 2025, 'occasional': 2026, 'calmly': 2027, 'holidays': 2028, 'sand': 2029, 'leg': 2030, 'cave': 2031, \"what's\": 2032, 'brushwood': 2033, 'burned': 2034, 'curls': 2035, 'annoyed': 2036, 'threatening': 2037, 'arose': 2038, 'roar': 2039, 'prey': 2040, 'win': 2041, 'darker': 2042, 'apart': 2043, 'huddled': 2044, 'visible': 2045, 'progress': 2046, 'slow': 2047, 'pushing': 2048, 'fists': 2049, 'poised': 2050, 'bright': 2051, 'bore': 2052, 'holes': 2053, 'claws': 2054, '“say': 2055, 'tells': 2056, 'gun': 2057, 'refused': 2058, 'send': 2059, '“these': 2060, 'agreed': 2061, 'knives': 2062, 'echoes': 2063, 'savagely': 2064, 'learn': 2065, 'treading': 2066, 'upwards': 2067, 'companion': 2068, 'planned': 2069, 'destruction': 2070, 'hatred': 2071, 'staggering': 2072, 'disposed': 2073, 'follows': 2074, 'numbers': 2075, 'according': 2076, 'rules': 2077, 'sugar': 2078, 'therefore': 2079, 'gather': 2080, 'sticks': 2081, 'firewood': 2082, 'humblest': 2083, 'plunge': 2084, 'passes': 2085, 'conceited': 2086, 'stands': 2087, '“avast': 2088, 'villainous': 2089, 'italian': 2090, 'dusky': 2091, 'flint': 2092, 'moidores': 2093, 'gold': 2094, 'irish': 2095, 'stabbed': 2096, 'alf': 2097, 'mason': 2098, 'spanish': 2099, 'blackest': 2100, 'setting': 2101, 'jas': 2102, 'rough': 2103, 'propelled': 2104, 'addressed': 2105, 'faced': 2106, 'distance': 2107, 'expression': 2108, 'profound': 2109, 'appeared': 2110, 'horribly': 2111, 'period': 2112, 'fated': 2113, 'holder': 2114, 'enabled': 2115, 'cigars': 2116, 'grimmest': 2117, 'method': 2118, 'trail': 2119, 'inexperienced': 2120, 'naked': 2121, 'bodies': 2122, 'gleam': 2123, 'scalps': 2124, 'softer': 2125, 'fours': 2126, 'panther': 2127, 'proudly': 2128, 'woods': 2129, 'piccaninnies': 2130, 'observe': 2131, 'twigs': 2132, 'lions': 2133, 'innumerable': 2134, 'beast': 2135, 'particularly': 2136, 'tongues': 2137, 'sward': 2138, 'underground': 2139, 'nervously': 2140, 'height': 2141, \"o'\": 2142, 'rope': 2143, 'davy': 2144, 'jones': 2145, 'residence': 2146, 'closely': 2147, 'pistol': 2148, 'flashed': 2149, '“put': 2150, 'cutlass': 2151, 'wound': 2152, 'beauty': 2153, 'stupid': 2154, \"'twas\": 2155, 'score': 2156, 'combing': 2157, 'homely': 2158, 'frowned': 2159, 'dread': 2160, 'crocodiles': 2161, 'compliment': 2162, 'quiver': 2163, '“smee': 2164, 'wetted': 2165, 'dry': 2166, 'hot': 2167, '“odds': 2168, 'bobs': 2169, 'hammer': 2170, 'tongs': 2171, 'pull': 2172, 'ascend': 2173, 'enemies': 2174, 'noted': 2175, 'swarthy': 2176, 'plan': 2177, 'rich': 2178, 'apiece': 2179, 'dangerous': 2180, 'policy': 2181, \"they're\": 2182, 'pursued': 2183, 'horrible': 2184, 'dire': 2185, 'defying': 2186, 'fled': 2187, 'flies': 2188, \"'poor\": 2189, 'plaintive': 2190, 'victim': 2191, 'pinching': 2192, 'bow': 2193, '6': 2194, 'foolish': 2195, 'armed': 2196, '“hide': 2197, 'aloof': 2198, 'hotly': 2199, 'thud': 2200, 'quietly': 2201, 'comic': 2202, '“strike': 2203, 'raise': 2204, 'knelt': 2205, 'interposed': 2206, 'faint': 2207, 'wailing': 2208, 'grateful': 2209, 'health': 2210, 'suggested': 2211, 'lies': 2212, 'mutter': 2213, 'proposed': 2214, 'building': 2215, '“curly': 2216, 'fireplace': 2217, '“slightly': 2218, '“fetch': 2219, 'doctor': 2220, 'scratching': 2221, '“please': 2222, 'anxiously': 2223, '“tut': 2224, 'yonder': 2225, 'breaths': 2226, 'opens': 2227, 'respectfully': 2228, 'opening': 2229, \"“we've\": 2230, 'windows': 2231, 'yellow': 2232, 'blinds': 2233, 'ordering': 2234, 'babes': 2235, 'strode': 2236, 'escaped': 2237, 'knocker': 2238, 'knocked': 2239, 'impressions': 2240, \"you're\": 2241, 'experience': 2242, '“very': 2243, 'tight': 2244, 'joyous': 2245, 'smoking': 2246, 'sneered': 2247, 'mastered': 2248, 'awkward': 2249, 'practice': 2250, 'consisted': 2251, 'stout': 2252, 'stools': 2253, 'sawed': 2254, 'cleared': 2255, 'suspended': 2256, 'signal': 2257, 'unlike': 2258, 'cage': 2259, 'exquisite': 2260, 'club': 2261, 'robin': 2262, 'hers': 2263, 'pot': 2264, 'stodge': 2265, 'lead': 2266, 'darning': 2267, 'expressed': 2268, 'occupied': 2269, 'double': 2270, 'stockings': 2271, 'fling': 2272, 'exclaim': 2273, 'spinsters': 2274, 'envied': 2275, 'calculated': 2276, 'suns': 2277, 'willing': 2278, 'nobly': 2279, 'duty': 2280, 'papers': 2281, 'joining': 2282, '“': 2283, 'characters': 2284, 'cross': 2285, 'answers': 2286, 'flinging': 2287, 'balls': 2288, 'walks': 2289, 'stool': 2290, 'severely': 2291, 'dazzling': 2292, 'latin': 2293, 'average': 2294, 'brush': 2295, '“redskin': 2296, 'fiercely': 2297, 'upshot': 2298, 'perish': 2299, 'shorter': 2300, 'swam': 2301, 'pool': 2302, 'nearest': 2303, 'summer': 2304, 'contrary': 2305, 'irritated': 2306, 'dived': 2307, 'intentionally': 2308, 'cries': 2309, 'moonlight': 2310, 'bubbles': 2311, 'secretly': 2312, 'adopted': 2313, 'tide': 2314, 'submerged': 2315, 'stalking': 2316, 'chilly': 2317, 'longed': 2318, 'waken': 2319, 'wide': 2320, 'shuddered': 2321, 'deserted': 2322, 'hunting': 2323, 'hoist': 2324, 'imitation': 2325, '“at': 2326, '“better': 2327, 'elated': 2328, 'likely': 2329, '“boat': 2330, 'ahoy': 2331, 'dripping': 2332, 'sake': 2333, '“those': 2334, 'affrighted': 2335, 'swelled': 2336, 'scheme': 2337, 'agree': 2338, 'bullies': 2339, 'swear': 2340, 'abruptly': 2341, 'complacently': 2342, '“brimstone': 2343, 'gall': 2344, 'thundered': 2345, 'gills': 2346, 'roger': 2347, 'anchor': 2348, 'humbly': 2349, 'blankly': 2350, 'lowering': 2351, 'snapping': 2352, 'belief': 2353, 'bully': 2354, 'blithely': 2355, 'brow': 2356, 'reflected': 2357, 'gallantly': 2358, 'struggle': 2359, 'flash': 2360, 'enter': 2361, 'strangely': 2362, 'touching': 2363, 'combat': 2364, 'admit': 2365, 'unfairness': 2366, 'yours': 2367, 'fairness': 2368, 'wendy”': 2369, 'concluded': 2370, 'faintly': 2371, 'moaned': 2372, 'rings': 2373, 'closes': 2374, 'steadily': 2375, 'drift': 2376, 'purpose': 2377, 'clapping': 2378, 'working': 2379, 'extent': 2380, 'exhausted': 2381, 'melted': 2382, 'speaking': 2383, 'distinctly': 2384, 'repeated': 2385, 'remark': 2386, '“shut': 2387, 'sky': 2388, 'feathers': 2389, 'glittering': 2390, 'broad': 2391, 'brim': 2392, 'landed': 2393, 'bitter': 2394, 'hither': 2395, 'thither': 2396, 'biggest': 2397, 'bandages': 2398, 'lateness': 2399, 'result': 2400, 'warriors': 2401, '“me': 2402, 'posts': 2403, '“silence': 2404, 'mug': 2405, 'imaginary': 2406, '“may': 2407, 'humble': 2408, 'hateful': 2409, '“nibs': 2410, 'tartly': 2411, 'group': 2412, 'limbs': 2413, 'nuts': 2414, 'count': 2415, 'special': 2416, 'nighties': 2417, 'gratified': 2418, 'takes': 2419, '“dear': 2420, 'frankly': 2421, 'squeaked': 2422, 'impudent': 2423, 'buffeted': 2424, 'pillow': 2425, 'dull': 2426, '“rather': 2427, '“was': 2428, 'descendants': 2429, 'future': 2430, 'easier': 2431, \"man's\": 2432, 'rewarded': 2433, 'entirely': 2434, 'selfish': 2435, 'attention': 2436, 'groan': 2437, 'running': 2438, \"let's\": 2439, 'hearts': 2440, 'necessary': 2441, 'enacted': 2442, 'stricken': 2443, 'instinct': 2444, 'grandly': 2445, 'support': 2446, 'accustomed': 2447, 'journey': 2448, 'nightgown': 2449, 'gazing': 2450, 'forlornly': 2451, 'dejected': 2452, 'novelty': 2453, 'adopt': 2454, 'handful': 2455, 'counted': 2456, 'quality': 2457, 'unmoved': 2458, 'skipped': 2459, 'impression': 2460, 'flannels': 2461, 'clash': 2462, 'extended': 2463, 'wit': 2464, 'laws': 2465, 'rude': 2466, 'stream': 2467, 'snake': 2468, 'stirring': 2469, 'blade': 2470, 'vent': 2471, 'chill': 2472, 'ghastly': 2473, 'marked': 2474, 'trod': 2475, 'base': 2476, 'carnage': 2477, 'attacked': 2478, 'sons': 2479, 'risen': 2480, 'express': 2481, 'perished': 2482, 'turley': 2483, 'account': 2484, 'element': 2485, 'difficulties': 2486, 'chiefly': 2487, 'increased': 2488, 'cockiness': 2489, 'twitch': 2490, 'tortured': 2491, 'clang': 2492, 'urged': 2493, 'understanding': 2494, 'admired': 2495, 'doomed': 2496, 'emerge': 2497, 'tying': 2498, 'foul': 2499, 'string': 2500, 'curled': 2501, 'regretted': 2502, 'guessed': 2503, 'formed': 2504, 'barrels': 2505, 'issued': 2506, 'trickle': 2507, 'infuriated': 2508, 'finding': 2509, 'tenement': 2510, 'arrived': 2511, 'unmolested': 2512, 'dim': 2513, 'sought': 2514, 'wailed': 2515, 'piteously': 2516, 'existence': 2517, 'invention': 2518, 'arched': 2519, 'sombre': 2520, 'profoundly': 2521, 'presented': 2522, 'sensitive': 2523, 'shone': 2524, 'aperture': 2525, 'escape': 2526, 'power': 2527, 'breaking': 2528, 'conceal': 2529, 'cautious': 2530, 'thrilled': 2531, 'unbarred': 2532, 'bound': 2533, 'rescue': 2534, 'deed': 2535, 'sped': 2536, 'explain': 2537, 'alighted': 2538, 'papooses': 2539, 'clapped': 2540, 'watchful': 2541, 'taught': 2542, 'blaze': 2543, 'search': 2544, 'movement': 2545, 'scarce': 2546, 'machine': 2547, 'unconscious': 2548, 'cards': 2549, 'unsteadily': 2550, 'surrounded': 2551, 'country': 2552, 'concerned': 2553, 'reflection': 2554, 'problem': 2555, 'dying': 2556, '“bad': 2557, 'cigar': 2558, 'signing': 2559, 'despise': 2560, 'naturally': 2561, 'king': 2562, 'ruff': 2563, 'snarled': 2564, 'rush': 2565, 'peculiar': 2566, 'ticked': 2567, 'amazed': 2568, 'sooner': 2569, \"here's\": 2570, 'swung': 2571, '“go': 2572, 'purring': 2573, 'despairingly': 2574, 'crossing': 2575, 'mutiny': 2576, 'scream': 2577, '“something': 2578, 'jeeringly': 2579, 'onset': 2580, 'fought': 2581, 'swords': 2582, 'youth': 2583, 'thrust': 2584, 'rio': 2585, 'magnificent': 2586, 'assailed': 2587, 'thou': 2588, 'boon': 2589, 'powder': 2590, 'magazine': 2591, 'knowledge': 2592, 'lustily': 2593, 'seems': 2594, 'serve': 2595, 'depriving': 2596, 'talking': 2597, 'weak': 2598, 'pardon': 2599, 'arrangement': 2600, 'falteringly': 2601, 'pained': 2602, 'la': 2603, 'beard': 2604, 'promised': 2605, 'jenkins': 2606, 'frock': 2607, 'untrue': 2608, 'garden': 2609, 'boxes': 2610, 'east': 2611, 'conspicuous': 2612, 'propose': 2613, 'innermost': 2614, 'napoleon': 2615, 'picture': 2616, 'slamming': 2617, 'respected': 2618, 'books': 2619, 'brussels': 2620, 'sprout': 2621, 'cauliflowers': 2622, 'pictures': 2623, 'honourable': 2624, 'calculating': 2625, 'risk': 2626, 'pencil': 2627, 'suggestions': 2628, 'begin': 2629, 'interrupt': 2630, 'seventeen': 2631, 'coffee': 2632, 'shillings': 2633, 'eighteen': 2634, 'seven—who': 2635, '—eight': 2636, 'dot': 2637, \"seven—don't\": 2638, 'own—and': 2639, 'lent': 2640, 'door—quiet': 2641, 'child—dot': 2642, 'child—there': 2643, \"you've\": 2644, '—did': 2645, 'grander': 2646, '“mumps': 2647, \"shillings—don't\": 2648, 'speak—measles': 2649, 'german': 2650, 'guinea': 2651, \"six—don't\": 2652, 'waggle': 2653, 'finger—whooping': 2654, 'shillings”—and': 2655, 'differently': 2656, 'reduced': 2657, 'twelve': 2658, 'kinds': 2659, 'excitement': 2660, 'narrower': 2661, 'squeak': 2662, 'kindergarten': 2663, 'amount': 2664, 'drank': 2665, 'prim': 2666, 'newfoundland': 2667, 'belonged': 2668, 'acquainted': 2669, 'spare': 2670, 'nursemaids': 2671, 'homes': 2672, 'complained': 2673, 'mistresses': 2674, 'thorough': 2675, 'patience': 2676, 'needs': 2677, 'throat': 2678, 'fashioned': 2679, 'remedies': 2680, 'rhubarb': 2681, 'fangled': 2682, 'germs': 2683, 'propriety': 2684, 'escorting': 2685, 'sedately': 2686, 'butting': 2687, 'strayed': 2688, 'footer': 2689, 'soccer': 2690, 'football': 2691, '“footer”': 2692, 'sweater': 2693, 'basement': 2694, 'nurses': 2695, 'forms': 2696, 'ignore': 2697, 'status': 2698, 'visits': 2699, 'pinafore': 2700, 'braiding': 2701, 'smoothed': 2702, 'dash': 2703, 'correctly': 2704, 'city': 2705, 'admires': 2706, 'assure': 2707, 'servant': 2708, 'midget': 2709, 'skirt': 2710, \"maid's\": 2711, 'cap': 2712, 'romps': 2713, 'gayest': 2714, 'pirouette': 2715, 'simpler': 2716, 'happier': 2717, 'nightly': 2718, 'rummage': 2719, 'repacking': 2720, 'articles': 2721, 'humorously': 2722, 'discoveries': 2723, 'kitten': 2724, 'hurriedly': 2725, 'stowing': 2726, 'naughtiness': 2727, 'passions': 2728, 'prettier': 2729, \"person's\": 2730, 'doctors': 2731, 'intensely': 2732, \"child's\": 2733, 'zigzag': 2734, 'temperature': 2735, 'card': 2736, 'roads': 2737, 'splashes': 2738, 'reefs': 2739, 'offing': 2740, 'lairs': 2741, 'gnomes': 2742, 'princes': 2743, 'elder': 2744, 'hut': 2745, 'decay': 2746, 'hooked': 2747, 'religion': 2748, 'fathers': 2749, 'pond': 2750, 'murders': 2751, 'hangings': 2752, 'verbs': 2753, 'dative': 2754, 'pudding': 2755, 'braces': 2756, 'ninety': 2757, 'pence': 2758, 'tooth': 2759, 'confusing': 2760, 'flamingoes': 2761, 'lagoons': 2762, 'upside': 2763, 'sands': 2764, 'forsaken': 2765, 'beaching': 2766, 'coracles': 2767, 'delectable': 2768, 'islands': 2769, 'snuggest': 2770, 'compact': 2771, 'sprawly': 2772, 'distances': 2773, 'crammed': 2774, 'cloth': 2775, 'becomes': 2776, 'travels': 2777, 'perplexing': 2778, 'scrawled': 2779, 'bolder': 2780, 'regret': 2781, 'questioning': 2782, 'childhood': 2783, 'doubted': 2784, 'confidently': 2785, 'consulted': 2786, '“mark': 2787, 'troublesome': 2788, 'shock': 2789, 'event': 2790, 'casual': 2791, 'revelation': 2792, 'tolerant': 2793, '“whatever': 2794, 'sighing': 2795, 'tidy': 2796, 'floors': 2797, '“were': 2798, 'natural': 2799, 'dismiss': 2800, 'breakfast': 2801, 'peering': 2802, 'marks': 2803, 'poker': 2804, 'tape': 2805, 'pavement': 2806, 'sheer': 2807, 'sung': 2808, 'fears': 2809, 'birthday': 2810, 'shirts': 2811, 'gracefully': 2812, 'alarm': 2813, 'obscures': 2814, 'gap': 2815, 'trifle': 2816, 'clad': 2817, 'juices': 2818, 'ooze': 2819, 'slam': 2820, 'winter': 2821, 'coats': 2822, 'towel': 2823, 'trouble': 2824, 'responsible': 2825, 'classical': 2826, 'education': 2827, 'stamped': 2828, 'brains': 2829, 'coinage': 2830, 'dine': 2831, 'gift': 2832, 'touchiness': 2833, 'trifles': 2834, 'mistress': 2835, 'altogether': 2836, 'upbraided': 2837, 'fondly': 2838, 'uneventfully': 2839, 'precisely': 2840, 'necklace': 2841, 'loan': 2842, 'lend': 2843, 'inform': 2844, 'extra': 2845, 'pomp': 2846, 'brutally': 2847, '“nobody': 2848, 'hopefully': 2849, 'recall': 2850, 'recollections': 2851, 'scorning': 2852, 'excuse': 2853, 'astounding': 2854, 'mastery': 2855, 'yielded': 2856, 'contest': 2857, 'crumpled': 2858, '“matter': 2859, 'dangerously': 2860, 'sarcastic': 2861, 'begs': 2862, 'starve': 2863, 'streets': 2864, 'placid': 2865, 'cool': 2866, 'thanked': 2867, 'romped': 2868, 'groaned': 2869, \"'how\": 2870, 'unluckily': 2871, 'collided': 2872, 'covering': 2873, 'hairs': 2874, 'braid': 2875, 'mistake': 2876, 'puppies': 2877, 'souls': 2878, 'poohed': 2879, 'thoughtful': 2880, 'examining': 2881, 'discussing': 2882, 'foolishly': 2883, 'boldly': 2884, 'dodged': 2885, 'reprovingly': 2886, '“be': 2887, 'naughtily': 2888, 'firmness': 2889, 'pamper': 2890, 'murmur': 2891, \"'thank\": 2892, 'bottles': 2893, 'encourage': 2894, '“ever': 2895, 'example': 2896, 'wash': 2897, 'spirits': 2898, 'sank': 2899, 'stuff': 2900, 'panted': 2901, 'wonderfully': 2902, 'vindictive': 2903, 'thrown': 2904, 'sick': 2905, '“hold': 2906, 'tongue': 2907, 'bursting': 2908, 'coldly': 2909, \"“father's\": 2910, '“neither': 2911, 'yell': 2912, \"'o\": 2913, \"father'\": 2914, '“stop': 2915, 'i—i': 2916, 'entreatingly': 2917, 'pour': 2918, 'reproachfully': 2919, 'expose': 2920, '“nana': 2921, 'patting': 2922, 'wagged': 2923, 'crept': 2924, 'smelt': 2925, 'comforted': 2926, '“much': 2927, 'bone': 2928, '“coddle': 2929, 'coddles': 2930, 'breadwinner': 2931, 'coddled—why': 2932, 'loud': 2933, 'recklessly': 2934, 'allow': 2935, 'wept': 2936, 'beseechingly': 2937, 'commands': 2938, 'lured': 2939, 'honeyed': 2940, 'roughly': 2941, 'affectionate': 2942, 'chaining': 2943, 'smells': 2944, 'quivered': 2945, 'securely': 2946, 'fastened': 2947, 'peppered': 2948, 'crowding': 2949, 'nameless': 2950, 'perturbed': 2951, 'harm': 2952, '“nothing': 2953, 'enchantments': 2954, 'soil': 2955, 'active': 2956, 'glassy': 2957, 'seldom': 2958, 'winking': 2959, 'commotion': 2960, 'firmament': 2961, 'milky': 2962, 'burn': 2963, 'clearly': 2964, 'blinked': 2965, 'yawn': 2966, 'yawned': 2967, 'brighter': 2968, 'rummaged': 2969, 'exquisitely': 2970, 'gowned': 2971, 'square': 2972, 'inclined': 2973, 'embonpoint': 2974, 'plump': 2975, 'hourglass': 2976, \"fairy's\": 2977, 'extremely': 2978, 'scattering': 2979, \"ha'pence\": 2980, 'recovered': 2981, 'exceeding': 2982, 'ceremonies': 2983, 'comparatively': 2984, 'shortish': 2985, 'contemptuously': 2986, 'rated': 2987, 'draggled': 2988, 'patronisingly': 2989, 'dreadfully': 2990, 'exulting': 2991, 'creased': 2992, 'ironed': 2993, 'indifferent': 2994, 'appearances': 2995, 'jumping': 2996, 'wildest': 2997, 'owed': 2998, 'attached': 2999, 'humiliating': 3000, 'confess': 3001, 'qualities': 3002, 'frankness': 3003, 'cockier': 3004, 'braggart': 3005, 'sarcasm': 3006, 'hauteur': 3007, 'dignified': 3008, 'induce': 3009, 'inches': 3010, 'declared': 3011, 'expectantly': 3012, 'primness': 3013, 'cheap': 3014, 'inclining': 3015, 'acorn': 3016, 'customary': 3017, 'grammar': 3018, '“talking': 3019, 'agitated': 3020, 'intense': 3021, 'nuisance': 3022, 'spanking': 3023, 'skipping': 3024, 'naturedly': 3025, \"'i\": 3026, 'flutter': 3027, 'thrill': 3028, 'impatiently': 3029, 'gurgles': 3030, 'screaming': 3031, 'cuckoo': 3032, 'distorted': 3033, 'amiably': 3034, 'translate': 3035, 'huge': 3036, 'ugly': 3037, 'argue': 3038, 'mends': 3039, 'pots': 3040, 'kettles': 3041, 'worker': 3042, 'similar': 3043, '“cinder”': 3044, 'plus': 3045, '“elle”': 3046, 'armchair': 3047, 'plied': 3048, 'now—”': 3049, '“sometimes': 3050, 'claimed': 3051, 'defray': 3052, 'female': 3053, 'companionship': 3054, 'prams': 3055, 'flattered': 3056, 'despises': 3057, 'meeting': 3058, 'kissed': 3059, '“funny': 3060, 'thimbled': 3061, 'screeched': 3062, 'someone': 3063, 'disappointed': 3064, 'swallows': 3065, 'eaves': 3066, '“which': 3067, 'prince': 3068, 'slipper': 3069, 'misgiving': 3070, 'precise': 3071, 'denying': 3072, 'tempted': 3073, \"wind's\": 3074, '“such': 3075, 'wriggling': 3076, 'sly': 3077, 'tuck': 3078, '“none': 3079, 'indifferently': 3080, '“hallo': 3081, 'blades': 3082, 'assumed': 3083, 'craftiness': 3084, 'salt': 3085, 'distressfully': 3086, 'throughout': 3087, 'wicked': 3088, 'inmates': 3089, 'angelically': 3090, 'artfully': 3091, 'temper': 3092, 'mixing': 3093, 'christmas': 3094, 'kitchen': 3095, 'raisin': 3096, 'absurd': 3097, 'custody': 3098, 'disgrace': 3099, 'angels': 3100, 'loudly': 3101, 'detected': 3102, 'drag': 3103, \"liza's\": 3104, 'clutches': 3105, 'whip': 3106, 'dining': 3107, 'paws': 3108, 'expressive': 3109, 'communication': 3110, 'scoundrels': 3111, 'announced': 3112, 'emerging': 3113, 'troubling': 3114, 'topping': 3115, 'nippy': 3116, \"“couldn't\": 3117, 'syllables': 3118, 'z': 3119, 'trifling': 3120, 'wiggle': 3121, 'flewed': 3122, 'kicking': 3123, 'ceiling': 3124, 'desist': 3125, 'luring': 3126, 'billion': 3127, 'sunday': 3128, 'ablaze': 3129, 'gripping': 3130, 'upstairs': 3131, '“cave': 3132, 'imperiously': 3133, 'soared': 3134, 'windy': 3135, 'companions': 3136, 'delights': 3137, 'wasted': 3138, 'spires': 3139, 'raced': 3140, 'fellows': 3141, 'seriously': 3142, 'feeding': 3143, 'pursue': 3144, 'suitable': 3145, 'humans': 3146, 'chasing': 3147, 'mutual': 3148, 'expressions': 3149, 'concern': 3150, 'bread': 3151, 'cruel': 3152, 'eventually': 3153, 'dive': 3154, 'saving': 3155, 'variety': 3156, 'sport': 3157, 'engrossed': 3158, 'cease': 3159, 'engage': 3160, 'possibility': 3161, \"shark's\": 3162, 'railing': 3163, \"eagle's\": 3164, 'neatly': 3165, '“after': 3166, 'clouds': 3167, 'bumping': 3168, 'strongly': 3169, 'bandage': 3170, 'forehead': 3171, 'scales': 3172, 'sticking': 3173, 'argued': 3174, 'recognition': 3175, 'agitatedly': 3176, '“always': 3177, \"'i'm\": 3178, 'unsatisfactory': 3179, 'amends': 3180, 'flat': 3181, 'security': 3182, 'tiffs': 3183, 'rollicking': 3184, 'million': 3185, 'directed': 3186, 'tip': 3187, 'toe': 3188, 'recognized': 3189, 'hailed': 3190, 'returning': 3191, 'turtles': 3192, 'burying': 3193, 'whelps': 3194, 'whelp': 3195, 'stove': 3196, 'camp': 3197, 'mysterious': 3198, 'bedtime': 3199, 'unexplored': 3200, 'patches': 3201, 'certainty': 3202, 'sparkling': 3203, 'tingle': 3204, 'fearsome': 3205, 'grazed': 3206, 'laboured': 3207, 'hostile': 3208, 'beaten': 3209, 'appalling': 3210, 'casually': 3211, '“tea': 3212, 'first”': 3213, 'pressed': 3214, 'gratitude': 3215, 'braver': 3216, 'cautiously': 3217, 'pampas': 3218, '“suppose': 3219, '“tons': 3220, '“jas': 3221, 'gulps': 3222, \"blackbeard's\": 3223, 'disrespectful': 3224, '“his': 3225, '“left': 3226, 'hander': 3227, '“claws': 3228, \"'ay\": 3229, 'serves': 3230, 'paled': 3231, 'loyally': 3232, 'distinguish': 3233, 'halo': 3234, 'drawbacks': 3235, '“tell': 3236, '“seems': 3237, 'travel': 3238, 'obligation': 3239, 'topper': 3240, 'stillest': 3241, 'ford': 3242, 'rasping': 3243, 'sharpening': 3244, 'noises': 3245, 'loneliness': 3246, 'request': 3247, 'tremendous': 3248, 'crash': 3249, 'mountains': 3250, 'terrified': 3251, 'steady': 3252, 'float': 3253, 'tremulously': 3254, \"haven't\": 3255, 'lure': 3256, 'jealousy': 3257, 'sounded': 3258, 'plainly': 3259, '5': 3260, 'pluperfect': 3261, 'attend': 3262, 'thumbs': 3263, 'hates': 3264, 'lethargy': 3265, 'seething': 3266, 'greet': 3267, 'thins': 3268, 'counting': 3269, 'cane': 3270, 'steal': 3271, 'single': 3272, 'file': 3273, 'skins': 3274, 'furry': 3275, 'footed': 3276, 'unfortunate': 3277, 'fewer': 3278, 'sweeping': 3279, 'souring': 3280, 'sweetened': 3281, 'deepest': 3282, 'woe': 3283, 'tool': 3284, 'tricked': 3285, \"'ware\": 3286, 'debonair': 3287, 'cuts': 3288, 'whistles': 3289, 'ecstatically': 3290, 'tunes': 3291, 'remembers': 3292, 'customs': 3293, 'tilt': 3294, 'pickle': 3295, 'pickles': 3296, 'predicaments': 3297, 'deliver': 3298, '“stand': 3299, 'automatically': 3300, 'described': 3301, 'describing': 3302, 'vague': 3303, 'apologetic': 3304, 'vanish': 3305, 'track': 3306, 'heave': 3307, 'pirating': 3308, 'parted': 3309, 'execution': 3310, 'dock': 3311, 'bare': 3312, 'ornaments': 3313, 'governor': 3314, 'prison': 3315, 'gao': 3316, 'terrify': 3317, 'banks': 3318, 'guadjo': 3319, 'mo': 3320, 'tattooed': 3321, 'walrus': 3322, 'portuguese': 3323, \"murphy's\": 3324, 'brother': 3325, 'usher': 3326, 'dainty': 3327, \"morgan's\": 3328, 'genial': 3329, 'offence': 3330, 'non': 3331, 'conformist': 3332, 'backwards': 3333, 'robt': 3334, 'ruffian': 3335, 'largest': 3336, 'reclined': 3337, 'wrote': 3338, 'chariot': 3339, 'increase': 3340, 'cadaverous': 3341, 'blackavized': 3342, 'candles': 3343, 'singularly': 3344, 'plunging': 3345, 'spots': 3346, 'seigneur': 3347, 'ripped': 3348, 'raconteur': 3349, 'storyteller': 3350, 'repute': 3351, 'truest': 3352, 'test': 3353, 'breeding': 3354, 'elegance': 3355, 'diction': 3356, 'swearing': 3357, 'distinction': 3358, 'demeanour': 3359, 'indomitable': 3360, 'shied': 3361, 'thick': 3362, 'unusual': 3363, 'aped': 3364, 'associated': 3365, 'charles': 3366, 'ii': 3367, 'earlier': 3368, 'career': 3369, 'stuarts': 3370, 'contrivance': 3371, 'lurches': 3372, 'clumsily': 3373, 'ruffling': 3374, 'lace': 3375, 'collar': 3376, 'shoots': 3377, 'tearing': 3378, 'pitted': 3379, 'noiselessly': 3380, 'peeled': 3381, 'tomahawks': 3382, 'paint': 3383, 'oil': 3384, 'strung': 3385, 'hearted': 3386, 'delawares': 3387, 'hurons': 3388, 'van': 3389, 'impede': 3390, 'rear': 3391, 'princess': 3392, 'dianas': 3393, 'diana': 3394, 'goddess': 3395, 'belle': 3396, 'coquettish': 3397, 'flirting': 3398, 'amorous': 3399, 'turns': 3400, 'wayward': 3401, 'staves': 3402, 'altar': 3403, 'hatchet': 3404, 'fat': 3405, 'gorging': 3406, 'constitutes': 3407, 'disappear': 3408, 'motley': 3409, 'tigers': 3410, 'flee': 3411, 'eaters': 3412, 'jowl': 3413, 'favoured': 3414, 'continue': 3415, 'indefinitely': 3416, 'stops': 3417, 'changes': 3418, 'suspects': 3419, 'creeping': 3420, 'turf': 3421, 'breadth': 3422, 'prevented': 3423, \"'oh\": 3424, 'grim': 3425, 'flag': 3426, 'skull': 3427, 'hempen': 3428, 'hey': 3429, 'boys—but': 3430, 'rabbits': 3431, 'exception': 3432, 'reconnoitre': 3433, 'disclose': 3434, 'entrances': 3435, 'tonight': 3436, 'disappearing': 3437, 'writhing': 3438, 'hate': 3439, 'scalp': 3440, 'tickle': 3441, 'wiggled': 3442, 'traits': 3443, 'wiped': 3444, 'weapon': 3445, \"“johnny's\": 3446, 'scatter': 3447, 'heaved': 3448, 'confide': 3449, 'earnestly': 3450, '“most': 3451, 'brandished': 3452, 'shake': 3453, 'uses': 3454, 'pray': 3455, 'scorn': 3456, 'wincing': 3457, '“noticed': 3458, 'corrected': 3459, 'licking': 3460, 'compliments': 3461, 'barked': 3462, 'petulantly': 3463, 'taste': 3464, 'bolt': 3465, '“some': 3466, \"he'll\": 3467, 'seat': 3468, 'burning': 3469, 'solidity': 3470, 'root': 3471, 'neighbourhood': 3472, 'chattering': 3473, 'grimly': 3474, 'replaced': 3475, \"pan's\": 3476, 'fidgeting': 3477, 'curdling': 3478, '“unrip': 3479, 'thickness': 3480, 'moles': 3481, 'gobble': 3482, \"'tis\": 3483, '“aha': 3484, 'prettiest': 3485, 'overtook': 3486, \"nought's\": 3487, 'shaken': 3488, 'verse': 3489, 'stilled': 3490, 'smothered': 3491, 'bounded': 3492, 'oozed': 3493, 'dangers': 3494, 'breathless': 3495, 'pursuers': 3496, 'baying': 3497, 'successful': 3498, 'attitude': 3499, 'wonderfuller': 3500, 'awestruck': 3501, 'weary': 3502, 'moans': 3503, '“poor': 3504, 'wendies': 3505, 'shrill': 3506, 'jealous': 3507, 'disguise': 3508, 'friendship': 3509, 'bows': 3510, 'conqueror': 3511, '“silly': 3512, 'trembling': 3513, 'caps': 3514, 'threw': 3515, 'sorrowfully': 3516, 'sorrier': 3517, \"tootles'\": 3518, 'reflecting': 3519, \"'pretty\": 3520, 'rise': 3521, 'signalled': 3522, 'ringing': 3523, '“greetings': 3524, 'saluted': 3525, 'cheers': 3526, 'overlooked': 3527, 'haste': 3528, 'glorious': 3529, 'tidings': 3530, '“great': 3531, 'mournful': 3532, '“back': 3533, 'hopping': 3534, '“whose': 3535, '“mine': 3536, 'dastard': 3537, 'flinch': 3538, 'bared': 3539, 'awe': 3540, 'stays': 3541, 'relate': 3542, 'reverently': 3543, 'briefly': 3544, 'begging': 3545, 'crime': 3546, 'begone': 3547, 'pleaded': 3548, 'relent': 3549, 'cuffed': 3550, 'slapped': 3551, 'delicate': 3552, 'state': 3553, 'gut': 3554, 'wedding': 3555, 'skurried': 3556, 'bedding': 3557, 'rub': 3558, 'relieved': 3559, 'amicably': 3560, 'measuring': 3561, 'supper': 3562, 'captainy': 3563, '“build': 3564, 'astounded': 3565, 'hack': 3566, 'hew': 3567, '“chairs': 3568, 'fender': 3569, 'dinners': 3570, 'chapped': 3571, 'glade': 3572, 'withdrawn': 3573, 'cured': 3574, '“give': 3575, 'beef': 3576, 'habit': 3577, 'escaping': 3578, 'axes': 3579, 'dwelling': 3580, '“her': 3581, 'mossy': 3582, 'gurgled': 3583, 'sap': 3584, 'carpeted': 3585, 'moss': 3586, 'wanting': 3587, 'greedily': 3588, 'roses—': 3589, '“roses': 3590, 'ourselves': 3591, \"'cos\": 3592, \"we've\": 3593, 'finishing': 3594, 'touches': 3595, 'eagle': 3596, 'sole': 3597, 'shoe': 3598, 'excellent': 3599, 'importantly': 3600, 'capital': 3601, 'thank': 3602, 'truly': 3603, '“first': 3604, 'branch': 3605, 'openly': 3606, 'sneering': 3607, '“lovely': 3608, 'shining': 3609, 'motherly': 3610, 'finish': 3611, 'carousing': 3612, 'prowl': 3613, 'unsteady': 3614, 'orgy': 3615, 'obstructing': 3616, 'mischiefed': 3617, 'tweaked': 3618, '7': 3619, 'measure': 3620, 'speed': 3621, 'alternately': 3622, 'graceful': 3623, 'measures': 3624, 'bumpy': 3625, 'available': 3626, 'perfect': 3627, 'condition': 3628, 'altered': 3629, \"days'\": 3630, 'buckets': 3631, 'ardently': 3632, 'dig': 3633, 'worms': 3634, 'fishing': 3635, 'mushrooms': 3636, 'centre': 3637, 'level': 3638, 'enormous': 3639, 'strings': 3640, 'fibre': 3641, 'tilted': 3642, '30': 3643, 'sardines': 3644, 'desired': 3645, 'circumstances': 3646, 'recess': 3647, 'apartment': 3648, 'fastidious': 3649, 'undressing': 3650, 'boudoir': 3651, 'combined': 3652, 'couch': 3653, 'genuine': 3654, 'queen': 3655, 'mab': 3656, 'varied': 3657, 'bedspreads': 3658, 'fruit': 3659, 'blossom': 3660, 'season': 3661, 'mirror': 3662, 'puss': 3663, 'boots': 3664, 'unchipped': 3665, 'dealers': 3666, 'washstand': 3667, 'pie': 3668, 'crust': 3669, 'reversible': 3670, 'authentic': 3671, 'sixth': 3672, 'carpet': 3673, 'rugs': 3674, 'margery': 3675, 'chandelier': 3676, 'tiddlywinks': 3677, 'contemptuous': 3678, 'inevitable': 3679, 'permanently': 3680, 'rampagious': 3681, 'weeks': 3682, 'cooking': 3683, 'aboil': 3684, 'depended': 3685, 'whim': 3686, 'cram': 3687, 'stodgy': 3688, 'stuffed': 3689, 'rounder': 3690, 'loose': 3691, 'basketful': 3692, 'beamed': 3693, 'everywhere': 3694, 'beloved': 3695, 'impossible': 3696, 'worry': 3697, 'vaguely': 3698, 'fix': 3699, 'slates': 3700, 'writing': 3701, 'slate': 3702, 'questions—“what': 3703, 'taller': 3704, 'blonde': 3705, 'brunette': 3706, 'essay': 3707, '40': 3708, 'compared': 3709, 'attempted': 3710, 'inmate': 3711, 'everyday': 3712, 'crosses': 3713, 'hopeful': 3714, 'ridiculous': 3715, 'compete': 3716, 'spell': 3717, 'tense': 3718, 'daily': 3719, 'occurrence': 3720, 'invented': 3721, 'enormously': 3722, 'grizzly': 3723, 'boasted': 3724, 'novel': 3725, 'bandaged': 3726, 'cooed': 3727, 'lukewarm': 3728, 'require': 3729, 'dictionary': 3730, 'specimen': 3731, 'sanguinary': 3732, 'affair': 3733, 'peculiarities': 3734, 'balance': 3735, 'leaning': 3736, 'methods': 3737, 'was—but': 3738, 'narrate': 3739, 'stuck': 3740, 'corks': 3741, 'ally': 3742, 'cooked': 3743, 'succulence': 3744, 'missile': 3745, 'overhanging': 3746, 'exciting': 3747, \"bell's\": 3748, 'defiance': 3749, 'breathlessly': 3750, 'accept': 3751, 'challenge': 3752, 'fairest': 3753, '8': 3754, 'shapeless': 3755, 'tighter': 3756, 'begins': 3757, 'vivid': 3758, 'terms': 3759, 'lasting': 3760, 'regrets': 3761, 'civil': 3762, 'bask': 3763, 'lazy': 3764, 'splashing': 3765, 'accident': 3766, 'chatted': 3767, 'cheeky': 3768, 'combs': 3769, 'haunting': 3770, 'utter': 3771, 'mortals': 3772, 'sunny': 3773, 'treat': 3774, 'goals': 3775, 'keepers': 3776, 'interlopers': 3777, 'bubble': 3778, 'resting': 3779, 'glistened': 3780, 'dozing': 3781, 'stitching': 3782, 'stitched': 3783, 'shivers': 3784, 'thread': 3785, 'formidable': 3786, 'unfriendly': 3787, 'captains': 3788, 'rises': 3789, 'muffled': 3790, 'oars': 3791, 'sniff': 3792, 'warning': 3793, 'motionless': 3794, 'closer': 3795, 'obey': 3796, 'incisive': 3797, '“dive': 3798, 'forbidding': 3799, 'marooned': 3800, 'captive': 3801, 'ankles': 3802, 'impassive': 3803, \"chief's\": 3804, 'boarding': 3805, 'guarded': 3806, 'mile': 3807, 'wail': 3808, 'crashed': 3809, '“luff': 3810, 'lubber': 3811, \"“here's\": 3812, 'resistance': 3813, 'tragedies': 3814, 'angered': 3815, 'imitated': 3816, '“ahoy': 3817, 'lubbers': 3818, 'marvellous': 3819, '“set': 3820, '“free': 3821, 'captain—”': 3822, \"d'ye\": 3823, 'cords': 3824, 'eel': 3825, \"starkey's\": 3826, 'betray': 3827, 'cover': 3828, 'act': 3829, 'puckered': 3830, 'whistle': 3831, \"boat's\": 3832, 'quaking': 3833, 'budge': 3834, 'tingling': 3835, '“am': 3836, 'moan': 3837, \"game's\": 3838, 'when—but': 3839, 'winced': 3840, 'dejection': 3841, 'eager': 3842, '“could': 3843, 'kidnap': 3844, \"boys'\": 3845, 'princely': 3846, 'seize': 3847, '“never': 3848, 'playful': 3849, \"“'twas\": 3850, 'faltered': 3851, 'cozening': 3852, 'cheating': 3853, 'fidgeted': 3854, '“spirit': 3855, '“dost': 3856, 'supreme': 3857, 'blanch': 3858, 'terror': 3859, 'ingratiating': 3860, '“only': 3861, 'captained': 3862, 'heeded': 3863, 'fearful': 3864, 'evidence': 3865, 'ego': 3866, 'slipping': 3867, 'feminine': 3868, 'intuitions': 3869, '“vegetable': 3870, '“mineral': 3871, '“animal': 3872, '“man': 3873, '“ordinary': 3874, '“wonderful': 3875, 'regretfully': 3876, \"“can't\": 3877, 'villains': 3878, 'henchmen': 3879, '“into': 3880, 'leaped': 3881, 'lam': 3882, 'grasp': 3883, 'whoop': 3884, 'confusion': 3885, 'rib': 3886, 'pinked': 3887, 'nicked': 3888, 'farther': 3889, 'seeking': 3890, 'blamed': 3891, 'backing': 3892, 'fishes': 3893, 'opposite': 3894, 'slippery': 3895, 'ball': 3896, 'crawl': 3897, 'heroes': 3898, 'confessed': 3899, 'stomach': 3900, 'gladness': 3901, 'belt': 3902, 'higher': 3903, 'dazed': 3904, 'horrified': 3905, 'unfairly': 3906, 'unfair': 3907, 'clawed': 3908, 'pestilent': 3909, 'dogged': 3910, 'pursuit': 3911, 'swum': 3912, 'alongside': 3913, 'scouring': 3914, 'shouting': 3915, 'chuckled': 3916, 'feeble': 3917, '“help': 3918, 'brightly': 3919, 'wounded': 3920, \"“michael's\": 3921, '“both': 3922, 'rays': 3923, 'tiptoed': 3924, 'musical': 3925, 'tremour': 3926, 'hundreds': 3927, 'drum': 3928, '9': 3929, 'retiring': 3930, 'bedchambers': 3931, 'doors': 3932, 'nicest': 3933, 'nibbling': 3934, 'final': 3935, 'gulp': 3936, 'idly': 3937, 'ashore': 3938, 'definite': 3939, 'winning': 3940, 'sympathetic': 3941, 'weaker': 3942, 'desperate': 3943, 'efforts': 3944, 'recognised': 3945, 'tormented': 3946, 'fanciful': 3947, 'freely': 3948, 'intelligently': 3949, '“i—want—you—to—get—into—the—nest': 3950, '“and—then—you—can—drift—ashore': 3951, 'but—i—am—too—tired—to—bring—it—any—nearer—so—you—must—try': 3952, 'to—swim—to—it': 3953, 'quacking': 3954, '“i—want—you—”': 3955, '“what—are—you—quacking—about': 3956, 'tempers': 3957, 'dunderheaded': 3958, 'jay': 3959, 'mighty': 3960, 'deserting': 3961, 'receive': 3962, 'driven': 3963, 'buccaneers': 3964, 'site': 3965, 'buried': 3966, 'hoard': 3967, 'mood': 3968, 'showers': 3969, 'diamonds': 3970, 'gulls': 3971, 'pounced': 3972, 'raging': 3973, 'scurvy': 3974, 'tarpaulin': 3975, 'watertight': 3976, 'agreement': 3977, 'reared': 3978, 'shirt': 3979, 'sail': 3980, 'snugly': 3981, 'beached': 3982, 'barque': 3983, 'actually': 3984, \"bird's\": 3985, 'mentioning': 3986, 'youngsters': 3987, 'airing': 3988, 'rejoicings': 3989, 'inflated': 3990, 'dodgy': 3991, 'staying': 3992, 'demanding': 3993, 'glorying': 3994, 'tender': 3995, 'limping': 3996, 'slings': 3997, '10': 3998, 'obviously': 3999, 'delayed': 4000, 'pipe': 4001, 'peace': 4002, 'tit': 4003, 'bits': 4004, 'prostrating': 4005, 'lordly': 4006, 'grovelled': 4007, 'protecting': 4008, 'velly': 4009, 'cringe': 4010, 'condescendingly': 4011, 'means': 4012, 'sympathised': 4013, 'loyal': 4014, 'complaints': 4015, 'squaw': 4016, 'gathering': 4017, 'uneventful': 4018, 'guzzling': 4019, 'greed': 4020, 'chatter': 4021, 'recriminations': 4022, 'positively': 4023, 'deafening': 4024, 'grabbing': 4025, 'excusing': 4026, 'elbow': 4027, 'meals': 4028, 'refer': 4029, 'dispute': 4030, \"hasn't\": 4031, 'promptly': 4032, '“sit': 4033, 'grumbling': 4034, 'bashfully': 4035, 'coughing': 4036, 'cheese': 4037, 'cakes': 4038, 'load': 4039, 'remonstrated': 4040, 'scolded': 4041, 'somebody': 4042, 'recognize': 4043, '“children': 4044, 'crouched': 4045, '“watch': 4046, 'simpered': 4047, 'exaggerated': 4048, '“dance': 4049, 'dancer': 4050, 'rattle': 4051, 'armful': 4052, 'insinuated': 4053, '“people': 4054, 'progeny': 4055, '“true': 4056, 'warming': 4057, \"day's\": 4058, 'toil': 4059, 'ex': 4060, 'blinking': 4061, 'primly': 4062, 'formally': 4063, 'exact': 4064, 'devoted': 4065, 'son': 4066, 'extreme': 4067, 'emphasis': 4068, 'nettled': 4069, 'bedroom': 4070, 'eavesdropping': 4071, 'glories': 4072, 'interpreted': 4073, 'translation': 4074, 'rejoice': 4075, 'sixty': 4076, 'gowns': 4077, 'deliciously': 4078, 'creepy': 4079, 'witting': 4080, 'shrink': 4081, 'uproariously': 4082, 'pillows': 4083, 'bout': 4084, 'partners': 4085, 'gloomily': 4086, '11': 4087, 'settling': 4088, 'gentleman—”': 4089, 'rat': 4090, 'admonished': 4091, 'cautioned': 4092, 'and—”': 4093, '“little': 4094, \"gentleman's\": 4095, 'annoy': 4096, '“white': 4097, 'rats': 4098, 'inspired': 4099, 'descendant': 4100, '“descendants': 4101, 'hurrah': 4102, '“hush': 4103, 'considering': 4104, 'jot': 4105, '“think': 4106, 'cheerfully': 4107, 'ending': 4108, 'triumphantly': 4109, 'heroine': 4110, 'bracing': 4111, 'finest': 4112, '“take': 4113, 'peep': 4114, 'twist': 4115, 'peeps': 4116, '“years': 4117, 'uncertain': 4118, 'alighting': 4119, 'london': 4120, 'station': 4121, 'excited': 4122, 'be—yes—no—it': 4123, 'is—the': 4124, 'portly': 4125, 'accompanying': 4126, 'estate': 4127, \"“'see\": 4128, \"'there\": 4129, 'sublime': 4130, 'daddy': 4131, 'pen': 4132, 'veil': 4133, 'narrator': 4134, 'skip': 4135, 'attractive': 4136, 'smacked': 4137, 'afford': 4138, 'callous': 4139, 'uttered': 4140, 'solicitously': 4141, 'lower': 4142, 'affright': 4143, 'agitation': 4144, 'candour': 4145, 'concealed': 4146, '“long': 4147, 'toads': 4148, 'resolutely': 4149, 'mourning': 4150, 'forgetful': 4151, 'arrangements': 4152, 'coolly': 4153, 'wrath': 4154, 'spoiling': 4155, 'dies': 4156, 'vindictively': 4157, 'unworthy': 4158, 'losing': 4159, \"“let's\": 4160, 'prisoner': 4161, 'extremity': 4162, '“tootles': 4163, 'appeal': 4164, 'appealed': 4165, 'silliest': 4166, 'respond': 4167, 'silliness': 4168, 'behave': 4169, 'hanger': 4170, 'noon': 4171, 'striding': 4172, 'tires': 4173, '“thank': 4174, 'courier': 4175, 'insubordination': 4176, 'whereupon': 4177, \"lady's\": 4178, 'negligee': 4179, 'equipped': 4180, 'beckoning': 4181, 'crediting': 4182, 'nobler': 4183, 'exclusively': 4184, 'screens': 4185, 'thursdays': 4186, 'granted': 4187, 'knocks': 4188, 'medicinal': 4189, 'portion': 4190, 'sink': 4191, '“get': 4192, 'indifference': 4193, 'departure': 4194, 'undignified': 4195, 'coaxed': 4196, 'points': 4197, 'decisively': 4198, 'peter—”': 4199, 'backs': 4200, 'bundle': 4201, 'changed': 4202, 'letting': 4203, 'cynicism': 4204, 'uncomfortable': 4205, 'noodles': 4206, 'fuss': 4207, 'blubbering': 4208, 'indication': 4209, 'prefer': 4210, 'changing': 4211, 'shrieks': 4212, 'beseeching': 4213, 'mutely': 4214, 'lust': 4215, 'battle': 4216, '12': 4217, 'unscrupulous': 4218, 'improperly': 4219, 'fairly': 4220, 'unwritten': 4221, 'warfare': 4222, 'attacks': 4223, 'wiliness': 4224, 'whites': 4225, 'lowest': 4226, 'ebb': 4227, 'stockade': 4228, 'summit': 4229, 'undulating': 4230, 'await': 4231, 'onslaught': 4232, 'revolvers': 4233, 'wriggle': 4234, 'grass': 4235, 'mole': 4236, 'coyotes': 4237, 'suspense': 4238, 'paleface': 4239, 'trained': 4240, 'calls': 4241, 'ghastlier': 4242, 'silences': 4243, 'intimation': 4244, 'marching': 4245, 'procedure': 4246, 'disregarding': 4247, 'plea': 4248, 'honour': 4249, 'contrast': 4250, 'undone': 4251, 'consistent': 4252, 'alertness': 4253, 'senses': 4254, 'marvel': 4255, 'despair': 4256, 'civilised': 4257, 'peoples': 4258, 'incredibly': 4259, 'stealthily': 4260, 'mocassins': 4261, 'heels': 4262, 'hillock': 4263, 'choice': 4264, 'establish': 4265, 'mapped': 4266, 'diabolical': 4267, 'phlegmatic': 4268, 'pearl': 4269, 'manhood': 4270, 'squatted': 4271, 'tortures': 4272, 'confiding': 4273, 'treacherous': 4274, 'accounts': 4275, 'supplied': 4276, 'paused': 4277, 'grey': 4278, 'appears': 4279, 'visited': 4280, 'subtle': 4281, 'pounded': 4282, 'masters': 4283, 'artifice': 4284, 'trot': 4285, 'helplessly': 4286, 'exposing': 4287, 'fatally': 4288, 'view': 4289, 'utterance': 4290, 'stoutest': 4291, 'perfidious': 4292, 'bearing': 4293, 'stake': 4294, 'grounds': 4295, 'acquitted': 4296, 'phalanx': 4297, 'formation': 4298, 'stationary': 4299, 'muscle': 4300, 'tradition': 4301, 'upheld': 4302, 'massacre': 4303, 'unavenged': 4304, 'lean': 4305, 'geo': 4306, 'scourie': 4307, 'chas': 4308, 'alsatian': 4309, 'foggerty': 4310, 'tomahawk': 4311, 'ultimately': 4312, 'remnant': 4313, 'tactics': 4314, 'historian': 4315, 'butchered': 4316, 'judging': 4317, 'acquaint': 4318, 'opponents': 4319, 'destroying': 4320, 'strategy': 4321, 'avail': 4322, 'beset': 4323, 'withhold': 4324, 'reluctant': 4325, 'bold': 4326, 'deadly': 4327, 'triumphant': 4328, 'fain': 4329, 'gladly': 4330, 'cutlasses': 4331, 'discreet': 4332, 'squinted': 4333, 'ferret': 4334, 'reflect': 4335, 'solitary': 4336, 'enigma': 4337, 'followers': 4338, 'substance': 4339, \"night's\": 4340, 'destroy': 4341, 'bees': 4342, 'smoked': 4343, 'tends': 4344, 'insecurity': 4345, \"crocodile's\": 4346, 'pertinacity': 4347, 'persistance': 4348, 'vindictiveness': 4349, 'relentless': 4350, 'malignant': 4351, 'goaded': 4352, 'frenzy': 4353, 'engaging': 4354, 'not—': 4355, 'bush': 4356, 'nerves': 4357, 'insect': 4358, 'lion': 4359, 'sparrow': 4360, 'thinnest': 4361, 'scruple': 4362, 'hesitate': 4363, 'ram': 4364, 'poles': 4365, 'mouthed': 4366, 'appealing': 4367, 'outstretched': 4368, 'pandemonium': 4369, 'gust': 4370, 'avidly': 4371, 'inaudibly': 4372, 'enjoined': 4373, 'amazement': 4374, 'wickedness': 4375, 'instrument': 4376, '“an': 4377, 'indian': 4378, 'byes': 4379, 'smirked': 4380, 'arrange': 4381, '13': 4382, 'ruthless': 4383, 'bales': 4384, 'goods': 4385, 'treatment': 4386, 'accorded': 4387, 'ironical': 4388, 'offering': 4389, 'escorted': 4390, 'gagged': 4391, 'distingue': 4392, 'imposingly': 4393, 'divulge': 4394, 'entranced': 4395, 'haughtily': 4396, 'unhanded': 4397, 'hurled': 4398, 'trussing': 4399, 'equal': 4400, 'parcels': 4401, 'tags': 4402, 'ends': 4403, 'knot': 4404, 'parcel': 4405, 'violence': 4406, 'malicious': 4407, 'sweating': 4408, 'lad': 4409, 'bulged': 4410, 'surface': 4411, 'probing': 4412, 'effects': 4413, 'causes': 4414, 'wherein': 4415, 'madly': 4416, 'addicted': 4417, 'consequence': 4418, 'girth': 4419, 'reducing': 4420, 'whittled': 4421, 'sufficient': 4422, 'persuade': 4423, 'design': 4424, 'subterranean': 4425, 'caverns': 4426, 'crossed': 4427, 'captives': 4428, 'convey': 4429, 'hunched': 4430, 'ropes': 4431, 'hill': 4432, 'morass': 4433, 'surmounted': 4434, 'conveyance': 4435, 'chorus': 4436, 'jet': 4437, 'dried': 4438, 'provided': 4439, 'brooding': 4440, 'omen': 4441, 'breeze': 4442, 'arisen': 4443, 'refreshingly': 4444, 'periwinkle': 4445, 'nether': 4446, 'void': 4447, 'lewd': 4448, 'shaft': 4449, 'gaze': 4450, 'rested': 4451, 'forlorn': 4452, 'grieve': 4453, 'coverlet': 4454, 'vex': 4455, 'haughty': 4456, 'painful': 4457, 'separated': 4458, 'riddle': 4459, 'soothing': 4460, 'calmer': 4461, 'indignity': 4462, 'subjected': 4463, 'dreamless': 4464, 'unfinished': 4465, 'stranded': 4466, 'defenceless': 4467, 'compassion': 4468, 'flowers': 4469, 'performer': 4470, 'harpsichord': 4471, 'idyllic': 4472, 'stirred': 4473, 'reluctantly': 4474, 'impertinent': 4475, 'drooping': 4476, 'personification': 4477, 'offensiveness': 4478, 'steeled': 4479, 'disregarded': 4480, 'incident': 4481, 'lamp': 4482, 'stealthy': 4483, 'obstacle': 4484, 'fill': 4485, 'disordered': 4486, 'visibly': 4487, 'ledge': 4488, 'fathomed': 4489, 'straightaway': 4490, 'drug': 4491, 'blended': 4492, 'dealing': 4493, 'possession': 4494, 'boiled': 4495, 'liquid': 4496, 'science': 4497, 'virulent': 4498, 'poison': 4499, 'avoided': 4500, 'glancing': 4501, 'unnerve': 4502, 'spilling': 4503, 'gloating': 4504, 'wormed': 4505, 'donning': 4506, 'angle': 4507, 'muttering': 4508, 'guttered': 4509, 'edges': 4510, 'tapping': 4511, 'stillness': 4512, 'strides': 4513, 'visitor': 4514, 'flushed': 4515, 'stained': 4516, 'mud': 4517, 'ungrammatical': 4518, 'sentence': 4519, 'ribbons': 4520, 'conjurers': 4521, 'magicians': 4522, 'capture': 4523, 'leaping': 4524, 'shrieked': 4525, '“poisoned': 4526, 'believing': 4527, 'deeds': 4528, 'lightning': 4529, 'movements': 4530, 'drained': 4531, 'dregs': 4532, 'reeling': 4533, 'tottering': 4534, 'fainter': 4535, 'baskets': 4536, 'fancied': 4537, 'affirmative': 4538, '“clap': 4539, 'countless': 4540, 'nurseries': 4541, 'thanking': 4542, 'riding': 4543, 'cloudy': 4544, 'begirt': 4545, 'belted': 4546, 'perilous': 4547, 'quest': 4548, 'chosen': 4549, 'fitful': 4550, 'trailing': 4551, 'acquainting': 4552, 'astir': 4553, 'approach': 4554, 'press': 4555, 'fashion': 4556, 'adept': 4557, 'expert': 4558, 'obliterated': 4559, 'footmarks': 4560, 'deathly': 4561, 'pervaded': 4562, 'recent': 4563, 'lore': 4564, 'seeds': 4565, 'upper': 4566, 'squinting': 4567, \"kidd's\": 4568, 'creek': 4569, 'speedy': 4570, 'hull': 4571, 'beam': 4572, 'detestable': 4573, 'strewn': 4574, 'mangled': 4575, 'cannibal': 4576, 'seas': 4577, 'immune': 4578, 'wrapped': 4579, 'blanket': 4580, 'agreeable': 4581, 'whir': 4582, 'industrious': 4583, 'obliging': 4584, 'essence': 4585, 'commonplace': 4586, 'infinitely': 4587, 'pathetically': 4588, 'fount': 4589, 'flow': 4590, 'leant': 4591, 'miasma': 4592, 'putrid': 4593, 'mist': 4594, 'sprawled': 4595, 'dice': 4596, 'prone': 4597, 'skillfully': 4598, 'unfathomable': 4599, 'removed': 4600, 'tabernacle': 4601, 'paced': 4602, 'bellied': 4603, 'winds': 4604, 'gait': 4605, 'communing': 4606, 'quietude': 4607, 'terribly': 4608, 'inscrutable': 4609, 'socially': 4610, 'reveal': 4611, 'date': 4612, 'read': 4613, 'largely': 4614, 'grappled': 4615, 'adhered': 4616, \"school's\": 4617, 'slouch': 4618, 'retained': 4619, 'degenerated': 4620, 'creaking': 4621, 'rusty': 4622, 'portals': 4623, 'hammering': 4624, 'eternal': 4625, '“fame': 4626, 'fame': 4627, 'bauble': 4628, '“barbecue': 4629, 'flint—what': 4630, 'cutting': 4631, 'retort': 4632, 'vitals': 4633, 'sharper': 4634, 'tore': 4635, 'perspiration': 4636, 'dripped': 4637, 'tallow': 4638, 'waxy': 4639, 'streaked': 4640, 'doublet': 4641, 'ofttimes': 4642, 'sleeve': 4643, 'damming': 4644, 'envy': 4645, 'presentiment': 4646, 'dissolution': 4647, 'boarded': 4648, 'gloomy': 4649, 'speech': 4650, 'ambition': 4651, 'darkest': 4652, 'referred': 4653, 'hemming': 4654, 'palm': 4655, 'itched': 4656, 'revolved': 4657, 'mystery': 4658, 'sleuth': 4659, 'hound': 4660, 'itself—“good': 4661, 'eligible': 4662, 'pop': 4663, 'elite': 4664, 'eton': 4665, 'arrested': 4666, 'impotent': 4667, 'powerless': 4668, 'discipline': 4669, 'relaxed': 4670, 'bacchanalian': 4671, 'drunken': 4672, 'traces': 4673, 'bucket': 4674, 'scugs': 4675, 'din': 4676, 'hushed': 4677, 'ranged': 4678, 'lolled': 4679, 'humming': 4680, 'unmelodiously': 4681, 'snatches': 4682, 'fingering': 4683, '“six': 4684, 'irritate': 4685, 'unnecessarily': 4686, 'prudent': 4687, 'responsibility': 4688, 'absent': 4689, 'buffer': 4690, 'constant': 4691, 'prudently': 4692, 'mournfully': 4693, 'would—”': 4694, '“stow': 4695, 'gab': 4696, 'spokesmen': 4697, 'addressing': 4698, 'pluck': 4699, 'didst': 4700, 'hearty': 4701, 'experienced': 4702, 'hankering': 4703, 'maths': 4704, 'prep': 4705, 'handed': 4706, 'jack': 4707, '“blackbeard': 4708, 'joe': 4709, 'subjects': 4710, \"'down\": 4711, 'banging': 4712, 'barrel': 4713, '“rule': 4714, 'britannia': 4715, 'seals': 4716, 'preparing': 4717, 'glamour': 4718, 'tidied': 4719, 'porthole': 4720, 'grimy': 4721, '“dirty': 4722, 'pig”': 4723, 'syrup': 4724, 'intensity': 4725, 'communings': 4726, 'soiled': 4727, 'hasty': 4728, 'gloatingly': 4729, 'message': 4730, \"'we\": 4731, 'awed': 4732, 'hysterically': 4733, 'are—”': 4734, '“tie': 4735, 'disdainfully': 4736, 'manfully': 4737, 'capacity': 4738, 'intention': 4739, 'anguish': 4740, 'wring': 4741, 'it—pirates': 4742, 'whence': 4743, 'proceeded': 4744, 'actors': 4745, 'spectators': 4746, 'clipped': 4747, 'joint': 4748, 'heap': 4749, 'inactive': 4750, 'intrinsic': 4751, 'attacking': 4752, 'force': 4753, 'lain': 4754, 'averted': 4755, 'curiosity': 4756, 'loosen': 4757, 'climbing': 4758, 'aid': 4759, 'rouse': 4760, 'suspicion': 4761, '15': 4762, 'time”': 4763, 'deaf': 4764, 'rightly': 4765, 'deprived': 4766, 'closest': 4767, 'catastrophe': 4768, 'superbly': 4769, 'unforeseen': 4770, 'regaining': 4771, 'slaves': 4772, 'mishap': 4773, 'encountering': 4774, 'animals': 4775, 'ingenious': 4776, 'occurred': 4777, 'noiseless': 4778, 'mouse': 4779, 'cowering': 4780, 'abject': 4781, 'swiftly': 4782, 'realised': 4783, 'situation': 4784, 'applause': 4785, 'ed': 4786, 'teynte': 4787, 'quartermaster': 4788, 'forecastle': 4789, 'reader': 4790, 'stifle': 4791, 'carrion': 4792, '“one': 4793, 'vanished': 4794, 'screwing': 4795, 'distressed': 4796, \"“all's\": 4797, 'brazenly': 4798, 'hating': 4799, 'unbend': 4800, 'ditty': 4801, 'frisky': 4802, 'terrorize': 4803, 'loss': 4804, 'grimacing': 4805, 'resumed': 4806, 'writ': 4807, 'back—”': 4808, '“two': 4809, 'tottered': 4810, 'haggard': 4811, 'towering': 4812, \"he's\": 4813, '“bill': 4814, \"cabin's\": 4815, 'pit': 4816, 'gibbering': 4817, '“cecco': 4818, 'steely': 4819, 'fetch': 4820, 'bravest': 4821, 'cowered': 4822, 'no”': 4823, 'musingly': 4824, '“three': 4825, 'rallied': 4826, \"“'s'death\": 4827, 'odds': 4828, 'fish': 4829, '“wait': 4830, 'volunteer': 4831, 'thunder': 4832, 'advisable': 4833, 'swing': 4834, \"“starkey's\": 4835, 'ringleader': 4836, '“shake': 4837, 'proffering': 4838, 'backed': 4839, 'spark': 4840, 'despairing': 4841, 'precipitated': 4842, '“four': 4843, 'menacing': 4844, '“five': 4845, \"“he's\": 4846, 'shortly': 4847, 'reluctance': 4848, 'unfavourably': 4849, 'mutinous': 4850, 'superstitious': 4851, 'surest': 4852, 'accurst': 4853, 'accounted': 4854, 'boards': 4855, 'viciously': 4856, 'likeness': 4857, '“had': 4858, 'nigh': 4859, 'notion': 4860, 'kills': 4861, 'devotedly': 4862, 'bidding': 4863, 'reappearance': 4864, 'key': 4865, 'manacles': 4866, 'freed': 4867, 'hearten': 4868, 'fangs': 4869, 'cajole': 4870, 'quailing': 4871, 'jonah': 4872, 'lads': 4873, \"flint's\": 4874, '“fling': 4875, 'missy': 4876, \"“who's\": 4877, 'avenger': 4878, 'undoing': 4879, 'essayed': 4880, '“cleave': 4881, 'brisket': 4882, '“down': 4883, 'resounding': 4884, 'unstrung': 4885, 'survivor': 4886, 'stronger': 4887, 'defensive': 4888, 'hunt': 4889, 'pairs': 4890, 'quarry': 4891, 'hid': 4892, 'recesses': 4893, 'blinded': 4894, 'reeking': 4895, 'monotonously': 4896, 'counting—five—six—seven': 4897, 'eight—nine—ten—eleven': 4898, 'charmed': 4899, 'bay': 4900, 'match': 4901, 'hewed': 4902, 'buckler': 4903, 'shield': 4904, 'fray': 4905, 'newcomer': 4906, 'ring': 4907, '“proud': 4908, 'insolent': 4909, '“prepare': 4910, 'thy': 4911, '“dark': 4912, 'thee': 4913, 'swordsman': 4914, 'parried': 4915, 'rapidity': 4916, 'feint': 4917, 'lunge': 4918, \"foe's\": 4919, 'defence': 4920, 'stead': 4921, 'brilliancy': 4922, 'nimble': 4923, 'wrist': 4924, 'forced': 4925, 'weight': 4926, 'hoping': 4927, 'astonishment': 4928, 'quietus': 4929, 'pawing': 4930, 'lunging': 4931, 'pierced': 4932, 'ribs': 4933, 'opponent': 4934, 'pick': 4935, '“pan': 4936, 'art': 4937, 'egg': 4938, 'pinnacle': 4939, \"“to't\": 4940, 'flail': 4941, 'sweep': 4942, 'severed': 4943, 'twain': 4944, 'obstructed': 4945, 'zone': 4946, 'pricked': 4947, 'passionate': 4948, 'forever': 4949, 'abandoning': 4950, 'shell': 4951, 'misguided': 4952, 'sympathising': 4953, 'flouting': 4954, 'scornful': 4955, 'staggered': 4956, 'impotently': 4957, 'slouching': 4958, 'fields': 4959, 'headmaster': 4960, 'waistcoat': 4961, 'socks': 4962, 'unheroic': 4963, 'farewell': 4964, 'advancing': 4965, 'purposely': 4966, 'spared': 4967, 'grudge': 4968, 'bulwark': 4969, 'gliding': 4970, 'stab': 4971, 'content': 4972, '“seventeen': 4973, 'paid': 4974, 'penalty': 4975, 'crimes': 4976, 'captured': 4977, 'precarious': 4978, 'glistening': 4979, 'prominent': 4980, 'praised': 4981, 'equally': 4982, 'nail': 4983, '“half': 4984, \"pirates'\": 4985, 'bunks': 4986, 'strutted': 4987, 'tightly': 4988, '16': 4989, 'stumps': 4990, \"rope's\": 4991, 'chewing': 4992, 'tobacco': 4993, 'donned': 4994, 'shaved': 4995, 'smartly': 4996, 'tumbled': 4997, 'nautical': 4998, 'hitching': 4999, 'mate': 5000, 'tars': 5001, \"fo'c'sle\": 5002, 'lashed': 5003, 'wheel': 5004, 'piped': 5005, 'delivered': 5006, 'hearties': 5007, 'scum': 5008, 'coast': 5009, 'bluff': 5010, 'strident': 5011, 'cheered': 5012, 'nosed': 5013, 'chart': 5014, 'weather': 5015, 'lasted': 5016, 'azores': 5017, '21st': 5018, 'june': 5019, 'cpt': 5020, 'obedience': 5021, 'perplexed': 5022, 'soundings': 5023, 'lull': 5024, 'forefinger': 5025, 'aloft': 5026, 'desolate': 5027, 'neglected': 5028, 'sorrowful': 5029, 'sympathy': 5030, 'bet': 5031, 'lawful': 5032, 'occupants': 5033, 'hurrying': 5034, 'thankless': 5035, 'spending': 5036, 'moral': 5037, 'contrived': 5038, 'forgive': 5039, 'authors': 5040, 'planning': 5041, 'rapture': 5042, 'shout': 5043, 'embrace': 5044, 'pettishly': 5045, '“dash': 5046, 'upbraid': 5047, 'pleasure': 5048, 'madam': 5049, 'unhappiness': 5050, 'cost': 5051, 'lookers': 5052, 'jaggy': 5053, 'baldness': 5054, 'justice': 5055, \"lion's\": 5056, 'invitations': 5057, 'sadly': 5058, 'bitterness': 5059, 'excess': 5060, 'deference': 5061, 'strength': 5062, 'attracted': 5063, 'inwardly': 5064, 'suffered': 5065, 'preserved': 5066, 'calm': 5067, 'exterior': 5068, 'criticised': 5069, 'quixotic': 5070, 'inward': 5071, 'leaked': 5072, 'crowds': 5073, 'autograph': 5074, 'interviews': 5075, 'society': 5076, 'eventful': 5077, \"george's\": 5078, 'rubbishy': 5079, 'withered': 5080, 'moves': 5081, 'restlessly': 5082, 'brats': 5083, 'filmy': 5084, 'paw': 5085, \"mistress's\": 5086, 'puts': 5087, 'worn': 5088, 'yore': 5089, 'imagination': 5090, 'incapable': 5091, 'motives': 5092, 'gratifying': 5093, '“lots': 5094, 'adults': 5095, 'flush': 5096, 'reproof': 5097, 'spoilt': 5098, 'sweeter': 5099, 'reassuringly': 5100, '“full': 5101, 'enjoying': 5102, 'drowsy': 5103, '“on': 5104, 'piano': 5105, 'thoughtlessly': 5106, '“close': 5107, 'bar': 5108, 'exterminated': 5109, 'escort': 5110, 'badly': 5111, 'thimbles': 5112, 'bragged': 5113, 'tune': 5114, '“home': 5115, 'exultantly': 5116, 'laid': 5117, 'unbar': 5118, \"“she's\": 5119, 'reason': 5120, 'sneer': 5121, 'deserved': 5122, 'unashamed': 5123, 'youngest': 5124, 'whistled': 5125, 'frank': 5126, 'disappointment': 5127, 'aback': 5128, 'memory': 5129, 'twinge': 5130, 'creep': 5131, 'nursed': 5132, 'envelop': 5133, 'lovelier': 5134, 'ecstasies': 5135, '17': 5136, 'stair': 5137, 'depressed': 5138, 'considered': 5139, 'halves': 5140, 'grudging': 5141, 'flushing': 5142, 'unworthily': 5143, 'unfavourable': 5144, 'consent': 5145, 'treating': 5146, 'zero': 5147, 'absurdly': 5148, \"“we'll\": 5149, '“mind': 5150, 'hoop': 5151, '“hoop': 5152, 'craftily': 5153, '“soon': 5154, 'comforter': 5155, 'repulsed': 5156, '“keep': 5157, 'longingly': 5158, 'tightened': 5159, 'authority': 5160, 'laughs': 5161, 'nests': 5162, 'mauve': 5163, 'sillies': 5164, '“sitting': 5165, '“sneaky': 5166, 'preferred': 5167, 'permanent': 5168, 'halfpenny': 5169, 'satisfied': 5170, 'iii': 5171, 'iv': 5172, 'v': 5173, 'attended': 5174, 'goats': 5175, 'settled': 5176, 'minor': 5177, 'younger': 5178, 'gradually': 5179, 'diversions': 5180, 'buses': 5181, 'deckers': 5182, 'tug': 5183, 'bus': 5184, 'jeered': 5185, 'woven': 5186, 'berries': 5187, 'thrilling': 5188, 'talks': 5189, 'arch': 5190, 'yesterday': 5191, 'pains': 5192, 'prize': 5193, 'toys': 5194, 'quicker': 5195, 'engine': 5196, 'driver': 5197, 'train': 5198, 'engineer': 5199, 'title': 5200, 'judge': 5201, 'wig': 5202, 'bearded': 5203, 'pink': 5204, 'sash': 5205, 'alight': 5206, 'forbid': 5207, 'banns': 5208, 'formal': 5209, 'announcement': 5210, 'marriage': 5211, 'ink': 5212, 'inquiring': 5213, 'bought': 5214, 'per': 5215, 'cents': 5216, 'mortgage': 5217, 'stairs': 5218, \"nurse's\": 5219, 'convinced': 5220, 'sheet': 5221, 'tent': 5222, 'object': 5223, 'further': 5224, 'conversation': 5225, 'sweetheart': 5226, '“does': 5227, 'artful': 5228, 'admits': 5229, 'embarked': 5230, '“tried': 5231, 'interrupts': 5232, \"'boy\": 5233, \"'just\": 5234, 'imitate': 5235, '“lucky': 5236, 'daring': 5237, 'move': 5238, 'guilty': 5239, 'squeezing': 5240, '“woman': 5241, 'glance': 5242, 'judgment': 5243, '“girl': 5244, 'faltering': 5245, 'expecting': 5246, 'useless': 5247, 'waste': 5248, 'shrinking': 5249, 'smiles': 5250, 'stooped': 5251, 'supposed': 5252, 'towards': 5253, 'upraised': 5254, 'sobbed': 5255, 'comfort': 5256, 'gloriously': 5257, 'nighty': 5258, 'ecstasy': 5259, 'descended': 5260, 'shameless': 5261, 'easiest': 5262, 'glimpse': 5263, 'receding': 5264, 'listens': 5265, 'grows': 5266}\n"
          ],
          "name": "stdout"
        }
      ]
    },
    {
      "cell_type": "code",
      "metadata": {
        "colab": {
          "base_uri": "https://localhost:8080/"
        },
        "id": "MZXDUj25Taa6",
        "outputId": "0eeed0c0-d706-4fd8-b6be-aea8874c598e"
      },
      "source": [
        "threshold = 2\n",
        "total_cnt = len(word_to_index) # 단어의 수\n",
        "rare_cnt = 0 # 등장 빈도수가 threshold보다 작은 단어의 개수를 카운트\n",
        "total_freq = 0 # 훈련 데이터의 전체 단어 빈도수 총 합\n",
        "rare_freq = 0 # 등장 빈도수가 threshold보다 작은 단어의 등장 빈도수의 총 합\n",
        "\n",
        "# 단어와 빈도수의 쌍(pair)을 key와 value로 받는다.\n",
        "for key, value in tokenizer.word_counts.items():\n",
        "    total_freq = total_freq + value\n",
        "\n",
        "    # 단어의 등장 빈도수가 threshold보다 작으면\n",
        "    if(value < threshold):\n",
        "        rare_cnt = rare_cnt + 1\n",
        "        rare_freq = rare_freq + value\n",
        "\n",
        "print('등장 빈도가 %s번 이하인 희귀 단어의 수: %s'%(threshold - 1, rare_cnt))\n",
        "print(\"단어 집합(vocabulary)에서 희귀 단어의 비율:\", (rare_cnt / total_cnt)*100)\n",
        "print(\"전체 등장 빈도에서 희귀 단어 등장 빈도 비율:\", (rare_freq / total_freq)*100)"
      ],
      "execution_count": 20,
      "outputs": [
        {
          "output_type": "stream",
          "text": [
            "등장 빈도가 1번 이하인 희귀 단어의 수: 2658\n",
            "단어 집합(vocabulary)에서 희귀 단어의 비율: 50.47474363843525\n",
            "전체 등장 빈도에서 희귀 단어 등장 빈도 비율: 5.426372414919462\n"
          ],
          "name": "stdout"
        }
      ]
    },
    {
      "cell_type": "code",
      "metadata": {
        "colab": {
          "base_uri": "https://localhost:8080/"
        },
        "id": "wUP0pogBTagd",
        "outputId": "3978d5ce-23c0-4a9e-9ba8-924e59dfc7d2"
      },
      "source": [
        "n_of_train = int(len(sequences) * 0.8)\n",
        "n_of_test = int(len(sequences) - n_of_train)\n",
        "print('훈련 데이터의 개수 :',n_of_train)\n",
        "print('테스트 데이터의 개수:',n_of_test)"
      ],
      "execution_count": 21,
      "outputs": [
        {
          "output_type": "stream",
          "text": [
            "훈련 데이터의 개수 : 1357\n",
            "테스트 데이터의 개수: 340\n"
          ],
          "name": "stdout"
        }
      ]
    },
    {
      "cell_type": "code",
      "metadata": {
        "colab": {
          "base_uri": "https://localhost:8080/",
          "height": 313
        },
        "id": "cr9gh_LyYYGa",
        "outputId": "f5641843-55d4-47c2-c726-391660cd689f"
      },
      "source": [
        "X_data = sequences\n",
        "print('메일의 최대 길이 : %d' % max(len(l) for l in X_data))\n",
        "print('메일의 평균 길이 : %f' % (sum(map(len, X_data))/len(X_data)))\n",
        "plt.hist([len(s) for s in X_data], bins=50)\n",
        "plt.xlabel('length of samples')\n",
        "plt.ylabel('number of samples')\n",
        "plt.show()"
      ],
      "execution_count": 22,
      "outputs": [
        {
          "output_type": "stream",
          "text": [
            "메일의 최대 길이 : 362\n",
            "메일의 평균 길이 : 28.864467\n"
          ],
          "name": "stdout"
        },
        {
          "output_type": "display_data",
          "data": {
            "image/png": "[encoded data removed]",
            "text/plain": [
              "<Figure size 432x288 with 1 Axes>"
            ]
          },
          "metadata": {
            "tags": [],
            "needs_background": "light"
          }
        }
      ]
    },
    {
      "cell_type": "code",
      "metadata": {
        "colab": {
          "base_uri": "https://localhost:8080/"
        },
        "id": "LN77sRJUYYJ-",
        "outputId": "b45dad96-229c-4ba5-c24d-104762a5c33f"
      },
      "source": [
        "max_len = 362\n",
        "# 전체 데이터셋의 길이는 max_len으로 맞춥니다.\n",
        "data = pad_sequences(X_data, maxlen = max_len)\n",
        "print(\"훈련 데이터의 크기(shape): \", data.shape)\n",
        "X_test = data[n_of_train:] #X_data 데이터 중에서 뒤의 1034개의 데이터만 저장\n",
        "y_test = np.array(y_data[n_of_train:]) #y_data 데이터 중에서 뒤의 1034개의 데이터만 저장\n",
        "X_train = data[:n_of_train] #X_data 데이터 중에서 앞의 4135개의 데이터만 저장\n",
        "y_train = np.array(y_data[:n_of_train]) #y_data 데이터 중에서 앞의 4135개의 데이터만 저장"
      ],
      "execution_count": 23,
      "outputs": [
        {
          "output_type": "stream",
          "text": [
            "훈련 데이터의 크기(shape):  (1697, 362)\n"
          ],
          "name": "stdout"
        }
      ]
    },
    {
      "cell_type": "code",
      "metadata": {
        "id": "iexh8NQsYYNe"
      },
      "source": [
        ""
      ],
      "execution_count": 23,
      "outputs": []
    },
    {
      "cell_type": "code",
      "metadata": {
        "id": "nrmdBTKrT0JI"
      },
      "source": [
        "from tensorflow.keras.layers import SimpleRNN, Embedding, Dense\n",
        "from tensorflow.keras.models import Sequential"
      ],
      "execution_count": 24,
      "outputs": []
    },
    {
      "cell_type": "code",
      "metadata": {
        "id": "-eplsmfxUenJ"
      },
      "source": [
        ""
      ],
      "execution_count": 79,
      "outputs": []
    },
    {
      "cell_type": "code",
      "metadata": {
        "colab": {
          "base_uri": "https://localhost:8080/"
        },
        "id": "wgKu7p6-T0MF",
        "outputId": "08e5fd99-82f3-4cd8-f584-2dd5d517b47a"
      },
      "source": [
        "model = Sequential()\n",
        "model.add(Embedding(vocab_size, 32)) # 임베딩 벡터의 차원은 32\n",
        "model.add(SimpleRNN(32)) # RNN 셀의 hidden_size는 32\n",
        "model.add(Dense(1, activation='sigmoid'))\n",
        "\n",
        "model.compile(optimizer='rmsprop', loss='binary_crossentropy', metrics=['acc'])\n",
        "history = model.fit(X_train, y_train, epochs=10, batch_size=5, validation_split=0.2)\n"
      ],
      "execution_count": 25,
      "outputs": [
        {
          "output_type": "stream",
          "text": [
            "Epoch 1/10\n",
            "217/217 [==============================] - 37s 155ms/step - loss: 0.0162 - acc: 0.5216 - val_loss: 0.1197 - val_acc: 0.5000\n",
            "Epoch 2/10\n",
            "217/217 [==============================] - 33s 153ms/step - loss: -0.0103 - acc: 0.5266 - val_loss: 0.1437 - val_acc: 0.5000\n",
            "Epoch 3/10\n",
            "217/217 [==============================] - 33s 151ms/step - loss: -0.3979 - acc: 0.5228 - val_loss: 0.1479 - val_acc: 0.5000\n",
            "Epoch 4/10\n",
            "217/217 [==============================] - 33s 152ms/step - loss: -0.6241 - acc: 0.5164 - val_loss: 0.1714 - val_acc: 0.5037\n",
            "Epoch 5/10\n",
            "217/217 [==============================] - 33s 153ms/step - loss: -0.7519 - acc: 0.5189 - val_loss: 0.2153 - val_acc: 0.5000\n",
            "Epoch 6/10\n",
            "217/217 [==============================] - 33s 151ms/step - loss: -0.8220 - acc: 0.5814 - val_loss: 0.1659 - val_acc: 0.5147\n",
            "Epoch 7/10\n",
            "217/217 [==============================] - 33s 151ms/step - loss: -2.2601 - acc: 0.5742 - val_loss: 0.7646 - val_acc: 0.4743\n",
            "Epoch 8/10\n",
            "217/217 [==============================] - 33s 151ms/step - loss: -2.5649 - acc: 0.6641 - val_loss: 0.5985 - val_acc: 0.5000\n",
            "Epoch 9/10\n",
            "217/217 [==============================] - 33s 152ms/step - loss: -4.5821 - acc: 0.6361 - val_loss: 1.3226 - val_acc: 0.5221\n",
            "Epoch 10/10\n",
            "217/217 [==============================] - 33s 151ms/step - loss: -5.4495 - acc: 0.6746 - val_loss: 1.2787 - val_acc: 0.4669\n"
          ],
          "name": "stdout"
        }
      ]
    },
    {
      "cell_type": "code",
      "metadata": {
        "colab": {
          "base_uri": "https://localhost:8080/"
        },
        "id": "IGxAISgXT0QS",
        "outputId": "63139a65-5f91-40df-9718-4a14d7936344"
      },
      "source": [
        "print(\"\\n 테스트 정확도: %.4f\" % (model.evaluate(X_test, y_test)[1]))"
      ],
      "execution_count": 26,
      "outputs": [
        {
          "output_type": "stream",
          "text": [
            "11/11 [==============================] - 0s 20ms/step - loss: 1.0046 - acc: 0.5147\n",
            "\n",
            " 테스트 정확도: 0.5147\n"
          ],
          "name": "stdout"
        }
      ]
    },
    {
      "cell_type": "code",
      "metadata": {
        "colab": {
          "base_uri": "https://localhost:8080/",
          "height": 295
        },
        "id": "FeTvMhKUT0TR",
        "outputId": "4b927524-7fba-443a-a72a-f267138e129c"
      },
      "source": [
        "epochs = range(1, len(history.history['acc']) + 1)\n",
        "plt.plot(epochs, history.history['loss'])\n",
        "plt.plot(epochs, history.history['val_loss'])\n",
        "plt.title('model loss')\n",
        "plt.ylabel('loss')\n",
        "plt.xlabel('epoch')\n",
        "plt.legend(['train', 'val'], loc='upper left')\n",
        "plt.show()"
      ],
      "execution_count": 27,
      "outputs": [
        {
          "output_type": "display_data",
          "data": {
            "image/png": "[encoded data removed]",
            "text/plain": [
              "<Figure size 432x288 with 1 Axes>"
            ]
          },
          "metadata": {
            "tags": [],
            "needs_background": "light"
          }
        }
      ]
    },
    {
      "cell_type": "code",
      "metadata": {
        "colab": {
          "base_uri": "https://localhost:8080/"
        },
        "id": "bRrr01qPT0Wp",
        "outputId": "62ede397-ec10-4565-b48d-ff623f367824"
      },
      "source": [
        "! git clone https://github.com/seawavve/PeekABook"
      ],
      "execution_count": 28,
      "outputs": [
        {
          "output_type": "stream",
          "text": [
            "Cloning into 'PeekABook'...\n",
            "remote: Enumerating objects: 192, done.\u001b[K\n",
            "remote: Counting objects: 100% (192/192), done.\u001b[K\n",
            "remote: Compressing objects: 100% (185/185), done.\u001b[K\n",
            "remote: Total 192 (delta 98), reused 4 (delta 1), pack-reused 0\u001b[K\n",
            "Receiving objects: 100% (192/192), 2.28 MiB | 11.58 MiB/s, done.\n",
            "Resolving deltas: 100% (98/98), done.\n"
          ],
          "name": "stdout"
        }
      ]
    },
    {
      "cell_type": "code",
      "metadata": {
        "colab": {
          "base_uri": "https://localhost:8080/"
        },
        "id": "u4jIau7qa0vH",
        "outputId": "54e32593-b212-494e-e98b-b836ddca7857"
      },
      "source": [
        "! ls"
      ],
      "execution_count": 33,
      "outputs": [
        {
          "output_type": "stream",
          "text": [
            "PeekABook  Peterpan_emo3.csv  sample_data\n"
          ],
          "name": "stdout"
        }
      ]
    },
    {
      "cell_type": "code",
      "metadata": {
        "colab": {
          "base_uri": "https://localhost:8080/"
        },
        "id": "lf3hJVfmZ_Yf",
        "outputId": "fe399894-6fb7-4d1b-840c-d1087bdb87bb"
      },
      "source": [
        "! cd model\n",
        "! git add .\n",
        "! git commit -m \"tensorflow_rnn_50\"\n",
        "! git push"
      ],
      "execution_count": 32,
      "outputs": [
        {
          "output_type": "stream",
          "text": [
            "/bin/bash: line 0: cd: model: No such file or directory\n",
            "fatal: not a git repository (or any of the parent directories): .git\n",
            "fatal: not a git repository (or any of the parent directories): .git\n",
            "fatal: not a git repository (or any of the parent directories): .git\n"
          ],
          "name": "stdout"
        }
      ]
    }
  ]
}