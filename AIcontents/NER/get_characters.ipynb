{
  "nbformat": 4,
  "nbformat_minor": 0,
  "metadata": {
    "colab": {
      "name": "get_characters.ipynb",
      "provenance": [],
      "authorship_tag": "ABX9TyMEP/o6iD5Gp1A5D9uhaVl+",
      "include_colab_link": true
    },
    "kernelspec": {
      "name": "python3",
      "display_name": "Python 3"
    },
    "language_info": {
      "name": "python"
    }
  },
  "cells": [
    {
      "cell_type": "markdown",
      "metadata": {
        "id": "view-in-github",
        "colab_type": "text"
      },
      "source": [
        "<a href=\"https://colab.research.google.com/github/seawavve/PeekABook/blob/main/NER/get_characters.ipynb\" target=\"_parent\"><img src=\"https://colab.research.google.com/assets/colab-badge.svg\" alt=\"Open In Colab\"/></a>"
      ]
    },
    {
      "cell_type": "code",
      "metadata": {
        "colab": {
          "base_uri": "https://localhost:8080/",
          "height": 419
        },
        "id": "rTG3svs5VzUS",
        "outputId": "87db1853-2668-4ced-c932-aaecc159663e"
      },
      "source": [
        "import pandas as pd\n",
        "data=pd.read_csv('Entity_Predicted_result.csv')\n",
        "display(data)"
      ],
      "execution_count": 1,
      "outputs": [
        {
          "output_type": "display_data",
          "data": {
            "text/html": [
              "<div>\n",
              "<style scoped>\n",
              "    .dataframe tbody tr th:only-of-type {\n",
              "        vertical-align: middle;\n",
              "    }\n",
              "\n",
              "    .dataframe tbody tr th {\n",
              "        vertical-align: top;\n",
              "    }\n",
              "\n",
              "    .dataframe thead th {\n",
              "        text-align: right;\n",
              "    }\n",
              "</style>\n",
              "<table border=\"1\" class=\"dataframe\">\n",
              "  <thead>\n",
              "    <tr style=\"text-align: right;\">\n",
              "      <th></th>\n",
              "      <th>Unnamed: 0</th>\n",
              "      <th>Unnamed: 0.1</th>\n",
              "      <th>sentence</th>\n",
              "      <th>mark</th>\n",
              "      <th>predicted_mark</th>\n",
              "      <th>person</th>\n",
              "    </tr>\n",
              "  </thead>\n",
              "  <tbody>\n",
              "    <tr>\n",
              "      <th>0</th>\n",
              "      <td>0</td>\n",
              "      <td>0</td>\n",
              "      <td>b' He ended by imploring Zobeida not to confou...</td>\n",
              "      <td>3</td>\n",
              "      <td>0</td>\n",
              "      <td>['Zobeida']</td>\n",
              "    </tr>\n",
              "    <tr>\n",
              "      <th>1</th>\n",
              "      <td>1</td>\n",
              "      <td>1</td>\n",
              "      <td>b' Is this, continued Zobeida, growing more an...</td>\n",
              "      <td>2</td>\n",
              "      <td>2</td>\n",
              "      <td>['Zobeida']</td>\n",
              "    </tr>\n",
              "    <tr>\n",
              "      <th>2</th>\n",
              "      <td>2</td>\n",
              "      <td>2</td>\n",
              "      <td>b' But I am very angry with your brothers, and...</td>\n",
              "      <td>2</td>\n",
              "      <td>2</td>\n",
              "      <td>[]</td>\n",
              "    </tr>\n",
              "    <tr>\n",
              "      <th>3</th>\n",
              "      <td>3</td>\n",
              "      <td>3</td>\n",
              "      <td>b' Both I and my subjects esteem you, and wish...</td>\n",
              "      <td>0</td>\n",
              "      <td>1</td>\n",
              "      <td>[]</td>\n",
              "    </tr>\n",
              "    <tr>\n",
              "      <th>4</th>\n",
              "      <td>4</td>\n",
              "      <td>4</td>\n",
              "      <td>b' The Sultan was so delighted to hear these w...</td>\n",
              "      <td>1</td>\n",
              "      <td>1</td>\n",
              "      <td>['Sultan']</td>\n",
              "    </tr>\n",
              "    <tr>\n",
              "      <th>...</th>\n",
              "      <td>...</td>\n",
              "      <td>...</td>\n",
              "      <td>...</td>\n",
              "      <td>...</td>\n",
              "      <td>...</td>\n",
              "      <td>...</td>\n",
              "    </tr>\n",
              "    <tr>\n",
              "      <th>167</th>\n",
              "      <td>167</td>\n",
              "      <td>167</td>\n",
              "      <td>b' He was delighted.'</td>\n",
              "      <td>1</td>\n",
              "      <td>1</td>\n",
              "      <td>[]</td>\n",
              "    </tr>\n",
              "    <tr>\n",
              "      <th>168</th>\n",
              "      <td>168</td>\n",
              "      <td>168</td>\n",
              "      <td>b' But no, it will be better if I throw you in...</td>\n",
              "      <td>2</td>\n",
              "      <td>2</td>\n",
              "      <td>[]</td>\n",
              "    </tr>\n",
              "    <tr>\n",
              "      <th>169</th>\n",
              "      <td>169</td>\n",
              "      <td>169</td>\n",
              "      <td>b' To his great surprise, he heard her saying ...</td>\n",
              "      <td>1</td>\n",
              "      <td>1</td>\n",
              "      <td>['Rejoice']</td>\n",
              "    </tr>\n",
              "    <tr>\n",
              "      <th>170</th>\n",
              "      <td>170</td>\n",
              "      <td>170</td>\n",
              "      <td>b' When he arrived home his wife and children ...</td>\n",
              "      <td>1</td>\n",
              "      <td>1</td>\n",
              "      <td>[]</td>\n",
              "    </tr>\n",
              "    <tr>\n",
              "      <th>171</th>\n",
              "      <td>171</td>\n",
              "      <td>171</td>\n",
              "      <td>b' Rejoice, he said, your cruel enemy is dead.'</td>\n",
              "      <td>1</td>\n",
              "      <td>1</td>\n",
              "      <td>['Rejoice']</td>\n",
              "    </tr>\n",
              "  </tbody>\n",
              "</table>\n",
              "<p>172 rows × 6 columns</p>\n",
              "</div>"
            ],
            "text/plain": [
              "     Unnamed: 0  Unnamed: 0.1  ... predicted_mark       person\n",
              "0             0             0  ...              0  ['Zobeida']\n",
              "1             1             1  ...              2  ['Zobeida']\n",
              "2             2             2  ...              2           []\n",
              "3             3             3  ...              1           []\n",
              "4             4             4  ...              1   ['Sultan']\n",
              "..          ...           ...  ...            ...          ...\n",
              "167         167           167  ...              1           []\n",
              "168         168           168  ...              2           []\n",
              "169         169           169  ...              1  ['Rejoice']\n",
              "170         170           170  ...              1           []\n",
              "171         171           171  ...              1  ['Rejoice']\n",
              "\n",
              "[172 rows x 6 columns]"
            ]
          },
          "metadata": {
            "tags": []
          }
        }
      ]
    },
    {
      "cell_type": "code",
      "metadata": {
        "colab": {
          "base_uri": "https://localhost:8080/"
        },
        "id": "_t5KDJMsWCKV",
        "outputId": "798909c0-e529-4428-d853-4a164ac3e59b"
      },
      "source": [
        "#등장인물 추출\n",
        "import ast\n",
        "persons=[]\n",
        "\n",
        "for person_line in data['person']:\n",
        "  person_line = ast.literal_eval(person_line) \n",
        "  for p in person_line:\n",
        "    persons.append(p)\n",
        "persons=set(persons)\n",
        "print(persons)"
      ],
      "execution_count": 12,
      "outputs": [
        {
          "output_type": "stream",
          "text": [
            "{'Wretch', 'Alnaschar', 'Hindbad', 'Whoso', 'Douban', 'Calenders', 'Sadia', 'Heaven', 'O Fortune', 'Mad', 'Sultan', 'Sadie', 'King Armanos', 'Marzavan', 'Rejoice', 'Zobeida', \"Aladdin's\", 'Alas', 'vizir', 'Grant', 'Saouy', 'Hasten', 'Amina', 'Fisherman'}\n"
          ],
          "name": "stdout"
        }
      ]
    },
    {
      "cell_type": "code",
      "metadata": {
        "id": "sTykj6pqaQ-B"
      },
      "source": [
        ""
      ],
      "execution_count": null,
      "outputs": []
    }
  ]
}