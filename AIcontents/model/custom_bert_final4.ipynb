{
  "nbformat": 4,
  "nbformat_minor": 0,
  "metadata": {
    "colab": {
      "name": "custom_bert.ipynb",
      "provenance": [],
      "collapsed_sections": [],
      "include_colab_link": true
    },
    "kernelspec": {
      "name": "python3",
      "display_name": "Python 3"
    },
    "language_info": {
      "name": "python"
    },
    "accelerator": "GPU"
  },
  "cells": [
    {
      "cell_type": "markdown",
      "metadata": {
        "id": "view-in-github",
        "colab_type": "text"
      },
      "source": [
        "<a href=\"https://colab.research.google.com/github/seawavve/PeekABook/blob/main/model/custom_bert_final4.ipynb\" target=\"_parent\"><img src=\"https://colab.research.google.com/assets/colab-badge.svg\" alt=\"Open In Colab\"/></a>"
      ]
    },
    {
      "cell_type": "markdown",
      "metadata": {
        "id": "SW3ObPc9cB9t"
      },
      "source": [
        ""
      ]
    },
    {
      "cell_type": "markdown",
      "metadata": {
        "id": "IK4r2axiX1qb"
      },
      "source": [
        "# Setup"
      ]
    },
    {
      "cell_type": "code",
      "metadata": {
        "id": "x1uTh7XvJGju",
        "colab": {
          "base_uri": "https://localhost:8080/"
        },
        "outputId": "110cfc79-5519-4b52-81e8-456bca165bf0"
      },
      "source": [
        "! pip install -q tensorflow-text\n",
        "! pip install -q tf-models-official"
      ],
      "execution_count": 1,
      "outputs": [
        {
          "output_type": "stream",
          "text": [
            "\u001b[K     |████████████████████████████████| 4.3MB 6.7MB/s \n",
            "\u001b[K     |████████████████████████████████| 1.6MB 7.7MB/s \n",
            "\u001b[K     |████████████████████████████████| 38.2MB 70kB/s \n",
            "\u001b[K     |████████████████████████████████| 358kB 51.3MB/s \n",
            "\u001b[K     |████████████████████████████████| 61kB 9.6MB/s \n",
            "\u001b[K     |████████████████████████████████| 645kB 49.2MB/s \n",
            "\u001b[K     |████████████████████████████████| 51kB 8.6MB/s \n",
            "\u001b[K     |████████████████████████████████| 174kB 53.5MB/s \n",
            "\u001b[K     |████████████████████████████████| 102kB 11.6MB/s \n",
            "\u001b[K     |████████████████████████████████| 686kB 36.7MB/s \n",
            "\u001b[K     |████████████████████████████████| 1.2MB 26.6MB/s \n",
            "\u001b[?25h  Building wheel for seqeval (setup.py) ... \u001b[?25l\u001b[?25hdone\n",
            "  Building wheel for py-cpuinfo (setup.py) ... \u001b[?25l\u001b[?25hdone\n"
          ],
          "name": "stdout"
        }
      ]
    },
    {
      "cell_type": "code",
      "metadata": {
        "id": "JA9YVFxtzPc9",
        "colab": {
          "base_uri": "https://localhost:8080/"
        },
        "outputId": "0b2fa662-3fbe-43bd-f85c-c27c7a1b14f4"
      },
      "source": [
        "import os, sys \n",
        "from google.colab import drive \n",
        "drive.mount('/content/mnt') \n",
        "nb_path = '/content/notebooks' \n",
        "os.symlink('/content/mnt/My Drive/Colab Notebooks', nb_path) \n",
        "sys.path.insert(0, nb_path)\n"
      ],
      "execution_count": 2,
      "outputs": [
        {
          "output_type": "stream",
          "text": [
            "Mounted at /content/mnt\n"
          ],
          "name": "stdout"
        }
      ]
    },
    {
      "cell_type": "code",
      "metadata": {
        "id": "_AI-QRVAJWpp"
      },
      "source": [
        "import os\n",
        "import shutil\n",
        "import tensorflow as tf\n",
        "import tensorflow_hub as hub\n",
        "import tensorflow_text as text\n",
        "import matplotlib.pyplot as plt\n",
        "import pandas as pd\n",
        "from tensorflow.keras.callbacks import EarlyStopping"
      ],
      "execution_count": 3,
      "outputs": []
    },
    {
      "cell_type": "code",
      "metadata": {
        "id": "KFihscmkJWsJ"
      },
      "source": [
        "#@title Configure the model { run: \"auto\" }\n",
        "BERT_MODEL = \"https://tfhub.dev/google/experts/bert/wiki_books/sst2/2\"\n",
        "# Preprocessing must match the model, but all the above use the same.\n",
        "PREPROCESS_MODEL = hub.load('https://tfhub.dev/tensorflow/bert_en_uncased_preprocess/3')"
      ],
      "execution_count": 4,
      "outputs": []
    },
    {
      "cell_type": "code",
      "metadata": {
        "id": "FEdOAA9FJWvH"
      },
      "source": [
        "# data=pd.read_csv('./Peterpan_emo3.csv')\n",
        "# data=data.dropna(how='any')\n",
        "# print(f'Dimensions: {data.shape}')\n",
        "# data"
      ],
      "execution_count": 5,
      "outputs": []
    },
    {
      "cell_type": "code",
      "metadata": {
        "id": "ERh7Q3NTYTvE",
        "colab": {
          "base_uri": "https://localhost:8080/"
        },
        "outputId": "97f4e92f-ce4e-4cbf-8935-0b3741a0b798"
      },
      "source": [
        "AUTOTUNE = tf.data.AUTOTUNE\n",
        "batch_size = 1\n",
        "seed = 1\n",
        "\n",
        "raw_train_ds = tf.keras.preprocessing.text_dataset_from_directory(\n",
        "    'mnt/MyDrive/Junglebook_data/train',\n",
        "    batch_size=batch_size,\n",
        "    validation_split=0.2,\n",
        "    subset='training',\n",
        "    seed=seed)\n",
        "\n",
        "class_names = raw_train_ds.class_names\n",
        "train_ds = raw_train_ds.cache().prefetch(buffer_size=AUTOTUNE)\n",
        "\n",
        "val_ds = tf.keras.preprocessing.text_dataset_from_directory(\n",
        "    'mnt/MyDrive/Junglebook_data/train',\n",
        "    batch_size=batch_size,\n",
        "    validation_split=0.2,\n",
        "    subset='validation',\n",
        "    seed=seed)\n",
        "\n",
        "val_ds = val_ds.cache().prefetch(buffer_size=AUTOTUNE)\n",
        "\n",
        "test_ds = tf.keras.preprocessing.text_dataset_from_directory(\n",
        "    'mnt/MyDrive/Junglebook_data/test',\n",
        "    batch_size=batch_size)\n",
        "\n",
        "test_ds = test_ds.cache().prefetch(buffer_size=AUTOTUNE)"
      ],
      "execution_count": 6,
      "outputs": [
        {
          "output_type": "stream",
          "text": [
            "Found 3189 files belonging to 3 classes.\n",
            "Using 2552 files for training.\n",
            "Found 3189 files belonging to 3 classes.\n",
            "Using 637 files for validation.\n",
            "Found 60 files belonging to 3 classes.\n"
          ],
          "name": "stdout"
        }
      ]
    },
    {
      "cell_type": "code",
      "metadata": {
        "id": "wp_osUvedAAX",
        "colab": {
          "base_uri": "https://localhost:8080/"
        },
        "outputId": "ed3d1ab1-5a06-4fbf-d12c-022e5417ba37"
      },
      "source": [
        "for text_batch, label_batch in train_ds.take(3):\n",
        "  print(f'Review: {text_batch.numpy()[0]}')\n",
        "  label = label_batch.numpy()[0]\n",
        "  print(f'Label : {label} ({class_names[label]})')\n",
        "  text_test = [text_batch.numpy()[0]]\n",
        "  text_preprocessed = PREPROCESS_MODEL(text_test)\n",
        "  print(f'Keys       : {list(text_preprocessed.keys())}')\n",
        "  print(f'Shape      : {text_preprocessed[\"input_word_ids\"].shape}')\n",
        "  print(f'Word Ids   : {text_preprocessed[\"input_word_ids\"][0, :12]}')\n",
        "  print(f'Input Mask : {text_preprocessed[\"input_mask\"][0, :12]}')\n",
        "  print(f'Type Ids   : {text_preprocessed[\"input_type_ids\"][0, :12]}\\n')\n",
        "  \n"
      ],
      "execution_count": 7,
      "outputs": [
        {
          "output_type": "stream",
          "text": [
            "Review: b'The kites will see that I am naked.'\n",
            "Label : 0 (Mod)\n",
            "Keys       : ['input_word_ids', 'input_mask', 'input_type_ids']\n",
            "Shape      : (1, 128)\n",
            "Word Ids   : [  101  1996 20497  2015  2097  2156  2008  1045  2572  6248  1012   102]\n",
            "Input Mask : [1 1 1 1 1 1 1 1 1 1 1 1]\n",
            "Type Ids   : [0 0 0 0 0 0 0 0 0 0 0 0]\n",
            "\n",
            "Review: b'Then he jumped.'\n",
            "Label : 0 (Mod)\n",
            "Keys       : ['input_word_ids', 'input_mask', 'input_type_ids']\n",
            "Shape      : (1, 128)\n",
            "Word Ids   : [ 101 2059 2002 5598 1012  102    0    0    0    0    0    0]\n",
            "Input Mask : [1 1 1 1 1 1 0 0 0 0 0 0]\n",
            "Type Ids   : [0 0 0 0 0 0 0 0 0 0 0 0]\n",
            "\n",
            "Review: b\"I'm frightened of a little dog, and the camel here is frightened by bad dreams in the night.\"\n",
            "Label : 1 (Neg)\n",
            "Keys       : ['input_word_ids', 'input_mask', 'input_type_ids']\n",
            "Shape      : (1, 128)\n",
            "Word Ids   : [  101  1045  1005  1049 10363  1997  1037  2210  3899  1010  1998  1996]\n",
            "Input Mask : [1 1 1 1 1 1 1 1 1 1 1 1]\n",
            "Type Ids   : [0 0 0 0 0 0 0 0 0 0 0 0]\n",
            "\n"
          ],
          "name": "stdout"
        }
      ]
    },
    {
      "cell_type": "markdown",
      "metadata": {
        "id": "7pAQBi5FX_1Z"
      },
      "source": [
        "# BERT"
      ]
    },
    {
      "cell_type": "code",
      "metadata": {
        "id": "Gn5gxSDtObBT"
      },
      "source": [
        "from tensorflow.keras import layers\n",
        "\n",
        "def build_classifier_model():\n",
        "  text_input = tf.keras.layers.Input(shape=(), dtype=tf.string, name='text')\n",
        "  preprocessing_layer = hub.KerasLayer(PREPROCESS_MODEL, name='preprocessing')\n",
        "  encoder_inputs = preprocessing_layer(text_input)\n",
        "  encoder = hub.KerasLayer(BERT_MODEL, trainable=True, name='BERT_encoder')\n",
        "  outputs = encoder(encoder_inputs)\n",
        "  net = outputs['pooled_output']\n",
        "\n",
        "  net = tf.keras.layers.Dropout(0.1)(net)\n",
        "  #net = tf.keras.layers.Dense(64, activation='relu')(net)\n",
        "  net = tf.keras.layers.Dense(3, activation='sigmoid', name='classifier')(net)\n",
        "  return tf.keras.Model(text_input, net)"
      ],
      "execution_count": 8,
      "outputs": []
    },
    {
      "cell_type": "code",
      "metadata": {
        "id": "uoG6LHFS3P4n"
      },
      "source": [
        "# classifier_model = build_classifier_model()\n",
        "# bert_raw_result = classifier_model(tf.constant(text_test))\n",
        "# print(tf.sigmoid(bert_raw_result))"
      ],
      "execution_count": 9,
      "outputs": []
    },
    {
      "cell_type": "code",
      "metadata": {
        "id": "O1KjTv6HObEm",
        "colab": {
          "base_uri": "https://localhost:8080/"
        },
        "outputId": "0cdbf088-b319-4108-e607-ea46f1decae7"
      },
      "source": [
        "text_test = ['this is such an amazing movie!']\n",
        "classifier_model = build_classifier_model()\n",
        "bert_raw_result = classifier_model(tf.constant(text_test))\n",
        "print(tf.sigmoid(bert_raw_result))"
      ],
      "execution_count": 10,
      "outputs": [
        {
          "output_type": "stream",
          "text": [
            "tf.Tensor([[0.64200556 0.66834664 0.66994494]], shape=(1, 3), dtype=float32)\n"
          ],
          "name": "stdout"
        }
      ]
    },
    {
      "cell_type": "code",
      "metadata": {
        "id": "cDF64qhIObH-",
        "colab": {
          "base_uri": "https://localhost:8080/",
          "height": 466
        },
        "outputId": "43cdc832-823c-40d5-eb63-35e7260bd459"
      },
      "source": [
        "tf.keras.utils.plot_model(classifier_model)"
      ],
      "execution_count": 11,
      "outputs": [
        {
          "output_type": "execute_result",
          "data": {
            "image/png": "[encoded data removed]",
            "text/plain": [
              "<IPython.core.display.Image object>"
            ]
          },
          "metadata": {
            "tags": []
          },
          "execution_count": 11
        }
      ]
    },
    {
      "cell_type": "code",
      "metadata": {
        "id": "fUIl41N-UlFJ"
      },
      "source": [
        "! pip install -q tf-models-official\n",
        "from official.nlp import optimization"
      ],
      "execution_count": 12,
      "outputs": []
    },
    {
      "cell_type": "code",
      "metadata": {
        "id": "J_zuhRG4UlCB"
      },
      "source": [
        "loss = tf.keras.losses.SparseCategoricalCrossentropy()\n",
        "metric = tf.keras.metrics.SparseCategoricalAccuracy()\n",
        "epochs = 100\n",
        "steps_per_epoch = tf.data.experimental.cardinality(train_ds).numpy()\n",
        "num_train_steps = steps_per_epoch * epochs\n",
        "num_warmup_steps = int(0.1*num_train_steps)\n",
        "\n",
        "init_lr = 3e-5\n",
        "optimizer = optimization.create_optimizer(init_lr=init_lr,\n",
        "                                          num_train_steps=num_train_steps,\n",
        "                                          num_warmup_steps=num_warmup_steps,\n",
        "                                          optimizer_type='adamw')\n"
      ],
      "execution_count": 13,
      "outputs": []
    },
    {
      "cell_type": "code",
      "metadata": {
        "id": "USHeHgatUlIc"
      },
      "source": [
        "classifier_model.compile(optimizer=optimizer,\n",
        "                         loss=loss,\n",
        "                         metrics=metric)"
      ],
      "execution_count": 14,
      "outputs": []
    },
    {
      "cell_type": "code",
      "metadata": {
        "id": "GcT3GpoQUlMR",
        "colab": {
          "base_uri": "https://localhost:8080/"
        },
        "outputId": "c8c43ffb-fa6e-49a6-8d08-ce6c6d593865"
      },
      "source": [
        "print(f'Training model with {BERT_MODEL}')\n",
        "es = EarlyStopping(monitor='val_loss', mode='min', verbose=1, patience=3)\n",
        "history = classifier_model.fit(x=train_ds,\n",
        "                               validation_data=val_ds,\n",
        "                               epochs=epochs,\n",
        "                               callbacks=[es])"
      ],
      "execution_count": 15,
      "outputs": [
        {
          "output_type": "stream",
          "text": [
            "Training model with https://tfhub.dev/google/experts/bert/wiki_books/sst2/2\n",
            "Epoch 1/100\n",
            "2552/2552 [==============================] - 598s 229ms/step - loss: 1.2341 - sparse_categorical_accuracy: 0.6803 - val_loss: 0.8569 - val_sparse_categorical_accuracy: 0.7755\n",
            "Epoch 2/100\n",
            "2552/2552 [==============================] - 231s 90ms/step - loss: 1.0663 - sparse_categorical_accuracy: 0.7904 - val_loss: 1.0324 - val_sparse_categorical_accuracy: 0.7818\n",
            "Epoch 3/100\n",
            "2552/2552 [==============================] - 231s 91ms/step - loss: 0.8009 - sparse_categorical_accuracy: 0.8578 - val_loss: 1.5762 - val_sparse_categorical_accuracy: 0.7708\n",
            "Epoch 4/100\n",
            "2552/2552 [==============================] - 231s 91ms/step - loss: 0.4997 - sparse_categorical_accuracy: 0.9169 - val_loss: 1.8184 - val_sparse_categorical_accuracy: 0.7630\n",
            "Epoch 00004: early stopping\n"
          ],
          "name": "stdout"
        }
      ]
    },
    {
      "cell_type": "code",
      "metadata": {
        "id": "fjc_GOObdr6Z",
        "outputId": "84e2bcdd-5522-4b14-9954-a082a5fc789f",
        "colab": {
          "base_uri": "https://localhost:8080/"
        }
      },
      "source": [
        "loss, accuracy = classifier_model.evaluate(test_ds)\n",
        "\n",
        "print(f'Loss: {loss}')\n",
        "print(f'Accuracy: {accuracy}')"
      ],
      "execution_count": 16,
      "outputs": [
        {
          "output_type": "stream",
          "text": [
            "60/60 [==============================] - 10s 138ms/step - loss: 1.3013 - sparse_categorical_accuracy: 0.8167\n",
            "Loss: 1.3013056516647339\n",
            "Accuracy: 0.8166666626930237\n"
          ],
          "name": "stdout"
        }
      ]
    },
    {
      "cell_type": "code",
      "metadata": {
        "id": "vDFyreRRUlPu",
        "outputId": "a4c30b40-60b3-48f4-dc60-4454d31e03db",
        "colab": {
          "base_uri": "https://localhost:8080/",
          "height": 438
        }
      },
      "source": [
        "history_dict = history.history\n",
        "print(history_dict.keys())\n",
        "\n",
        "acc = history_dict['sparse_categorical_accuracy']\n",
        "val_acc = history_dict['val_sparse_categorical_accuracy']\n",
        "loss = history_dict['loss']\n",
        "val_loss = history_dict['val_loss']\n",
        "\n",
        "epochs = range(1, len(acc) + 1)\n",
        "fig = plt.figure(figsize=(10, 6))\n",
        "fig.tight_layout()\n",
        "\n",
        "plt.subplot(2, 1, 1)\n",
        "# \"bo\" is for \"blue dot\"\n",
        "plt.plot(epochs, loss, 'r', label='Training loss')\n",
        "# b is for \"solid blue line\"\n",
        "plt.plot(epochs, val_loss, 'b', label='Validation loss')\n",
        "plt.title('Training and validation loss')\n",
        "# plt.xlabel('Epochs')\n",
        "plt.ylabel('Loss')\n",
        "plt.legend()\n",
        "\n",
        "plt.subplot(2, 1, 2)\n",
        "plt.plot(epochs, acc, 'r', label='Training acc')\n",
        "plt.plot(epochs, val_acc, 'b', label='Validation acc')\n",
        "plt.title('Training and validation accuracy')\n",
        "plt.xlabel('Epochs')\n",
        "plt.ylabel('Accuracy')\n",
        "plt.legend(loc='lower right')"
      ],
      "execution_count": 17,
      "outputs": [
        {
          "output_type": "stream",
          "text": [
            "dict_keys(['loss', 'sparse_categorical_accuracy', 'val_loss', 'val_sparse_categorical_accuracy'])\n"
          ],
          "name": "stdout"
        },
        {
          "output_type": "execute_result",
          "data": {
            "text/plain": [
              "<matplotlib.legend.Legend at 0x7f937a5c3590>"
            ]
          },
          "metadata": {
            "tags": []
          },
          "execution_count": 17
        },
        {
          "output_type": "display_data",
          "data": {
            "image/png": "[encoded data removed]",
            "text/plain": [
              "<Figure size 720x432 with 2 Axes>"
            ]
          },
          "metadata": {
            "tags": [],
            "needs_background": "light"
          }
        }
      ]
    },
    {
      "cell_type": "code",
      "metadata": {
        "id": "aiiUQQjQPC0x"
      },
      "source": [
        ""
      ],
      "execution_count": 17,
      "outputs": []
    },
    {
      "cell_type": "code",
      "metadata": {
        "id": "GLR1fZFAp7Ts"
      },
      "source": [
        "# from sklearn.model_selection import GridSearchCV\n",
        "\n",
        "# params = {'epochs':[10,20,30], 'learning_rate':[2e-5, 3e-5, 5e-5]}\n",
        "# grid = GridSearchCV(estimator=classifier_model, param_grid=params, scoring='sparse_categorical_accuracy', n_jobs=-1, cv=3)\n",
        "# grid_result = grid.fit(X, Y)\n",
        "\n",
        "# # fit gridsearch \n",
        "# clf.fit(X_train ,y_train)"
      ],
      "execution_count": 18,
      "outputs": []
    }
  ]
}